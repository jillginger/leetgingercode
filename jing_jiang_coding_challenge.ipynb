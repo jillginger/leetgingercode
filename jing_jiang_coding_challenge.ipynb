{
  "nbformat": 4,
  "nbformat_minor": 0,
  "metadata": {
    "colab": {
      "name": "jing_jiang_coding_challenge.ipynb",
      "provenance": [],
      "collapsed_sections": [],
      "toc_visible": true,
      "include_colab_link": true
    },
    "kernelspec": {
      "display_name": "Python 3",
      "language": "python",
      "name": "python3"
    },
    "language_info": {
      "codemirror_mode": {
        "name": "ipython",
        "version": 3
      },
      "file_extension": ".py",
      "mimetype": "text/x-python",
      "name": "python",
      "nbconvert_exporter": "python",
      "pygments_lexer": "ipython3",
      "version": "3.7.4"
    }
  },
  "cells": [
    {
      "cell_type": "markdown",
      "metadata": {
        "id": "view-in-github",
        "colab_type": "text"
      },
      "source": [
        "<a href=\"https://colab.research.google.com/github/jillginger/leetgingercode/blob/master/jing_jiang_coding_challenge.ipynb\" target=\"_parent\"><img src=\"https://colab.research.google.com/assets/colab-badge.svg\" alt=\"Open In Colab\"/></a>"
      ]
    },
    {
      "cell_type": "markdown",
      "metadata": {
        "id": "i2_PTgSb22Qa"
      },
      "source": [
        "Jing Jiang Coding Challenge \n",
        "\n",
        "\n",
        "\n",
        "---\n",
        "Produced in Google Colab\n",
        "\n",
        "2020-08-15\n"
      ]
    },
    {
      "cell_type": "markdown",
      "metadata": {
        "id": "5XDzz00lg0pQ"
      },
      "source": [
        "# Question 1"
      ]
    },
    {
      "cell_type": "code",
      "metadata": {
        "id": "dA72DLjzR2nZ"
      },
      "source": [
        "#Import Packages\n",
        "import  warnings\n",
        "warnings.simplefilter('ignore')\n",
        "\n",
        "import numpy as np\n",
        "import pandas as pd\n",
        "import seaborn as sns\n",
        "import matplotlib.pyplot as plt\n",
        "\n",
        "\n",
        "%matplotlib inline"
      ],
      "execution_count": null,
      "outputs": []
    },
    {
      "cell_type": "markdown",
      "metadata": {
        "id": "1IRYOvwxgXmr"
      },
      "source": [
        "## Data Cleaning and EDA"
      ]
    },
    {
      "cell_type": "code",
      "metadata": {
        "id": "6YZsQ3fFR6om",
        "colab": {
          "base_uri": "https://localhost:8080/",
          "height": 137
        },
        "outputId": "adeedef8-72b1-41ff-aa29-5c70599b6555"
      },
      "source": [
        "#Load Dataset\n",
        "xlsx = pd.ExcelFile('/content/online_retail_II.xlsx')\n",
        "df1 = pd.read_excel(xlsx, 0) #Year 2009-2010\n",
        "\n",
        "df1.head(3)"
      ],
      "execution_count": null,
      "outputs": [
        {
          "output_type": "execute_result",
          "data": {
            "text/html": [
              "<div>\n",
              "<style scoped>\n",
              "    .dataframe tbody tr th:only-of-type {\n",
              "        vertical-align: middle;\n",
              "    }\n",
              "\n",
              "    .dataframe tbody tr th {\n",
              "        vertical-align: top;\n",
              "    }\n",
              "\n",
              "    .dataframe thead th {\n",
              "        text-align: right;\n",
              "    }\n",
              "</style>\n",
              "<table border=\"1\" class=\"dataframe\">\n",
              "  <thead>\n",
              "    <tr style=\"text-align: right;\">\n",
              "      <th></th>\n",
              "      <th>Invoice</th>\n",
              "      <th>StockCode</th>\n",
              "      <th>Description</th>\n",
              "      <th>Quantity</th>\n",
              "      <th>InvoiceDate</th>\n",
              "      <th>Price</th>\n",
              "      <th>Customer ID</th>\n",
              "      <th>Country</th>\n",
              "    </tr>\n",
              "  </thead>\n",
              "  <tbody>\n",
              "    <tr>\n",
              "      <th>0</th>\n",
              "      <td>489434</td>\n",
              "      <td>85048</td>\n",
              "      <td>15CM CHRISTMAS GLASS BALL 20 LIGHTS</td>\n",
              "      <td>12</td>\n",
              "      <td>2009-12-01 07:45:00</td>\n",
              "      <td>6.95</td>\n",
              "      <td>13085.0</td>\n",
              "      <td>United Kingdom</td>\n",
              "    </tr>\n",
              "    <tr>\n",
              "      <th>1</th>\n",
              "      <td>489434</td>\n",
              "      <td>79323P</td>\n",
              "      <td>PINK CHERRY LIGHTS</td>\n",
              "      <td>12</td>\n",
              "      <td>2009-12-01 07:45:00</td>\n",
              "      <td>6.75</td>\n",
              "      <td>13085.0</td>\n",
              "      <td>United Kingdom</td>\n",
              "    </tr>\n",
              "    <tr>\n",
              "      <th>2</th>\n",
              "      <td>489434</td>\n",
              "      <td>79323W</td>\n",
              "      <td>WHITE CHERRY LIGHTS</td>\n",
              "      <td>12</td>\n",
              "      <td>2009-12-01 07:45:00</td>\n",
              "      <td>6.75</td>\n",
              "      <td>13085.0</td>\n",
              "      <td>United Kingdom</td>\n",
              "    </tr>\n",
              "  </tbody>\n",
              "</table>\n",
              "</div>"
            ],
            "text/plain": [
              "  Invoice StockCode  ... Customer ID         Country\n",
              "0  489434     85048  ...     13085.0  United Kingdom\n",
              "1  489434    79323P  ...     13085.0  United Kingdom\n",
              "2  489434    79323W  ...     13085.0  United Kingdom\n",
              "\n",
              "[3 rows x 8 columns]"
            ]
          },
          "metadata": {
            "tags": []
          },
          "execution_count": 2
        }
      ]
    },
    {
      "cell_type": "code",
      "metadata": {
        "id": "OmaxJOOYSvXM",
        "colab": {
          "base_uri": "https://localhost:8080/",
          "height": 590
        },
        "outputId": "7cdb0437-834c-42df-ab11-e5c71651dd1d"
      },
      "source": [
        "#Get an idea of how large the dataset is, and what the variables/features look like\n",
        "\n",
        "print(df1.shape) #dataset shape\n",
        "print(df1.info()) #general info\n",
        "df1.describe() #numeric info"
      ],
      "execution_count": null,
      "outputs": [
        {
          "output_type": "stream",
          "text": [
            "(525461, 8)\n",
            "<class 'pandas.core.frame.DataFrame'>\n",
            "RangeIndex: 525461 entries, 0 to 525460\n",
            "Data columns (total 8 columns):\n",
            " #   Column       Non-Null Count   Dtype         \n",
            "---  ------       --------------   -----         \n",
            " 0   Invoice      525461 non-null  object        \n",
            " 1   StockCode    525461 non-null  object        \n",
            " 2   Description  522533 non-null  object        \n",
            " 3   Quantity     525461 non-null  int64         \n",
            " 4   InvoiceDate  525461 non-null  datetime64[ns]\n",
            " 5   Price        525461 non-null  float64       \n",
            " 6   Customer ID  417534 non-null  float64       \n",
            " 7   Country      525461 non-null  object        \n",
            "dtypes: datetime64[ns](1), float64(2), int64(1), object(4)\n",
            "memory usage: 32.1+ MB\n",
            "None\n"
          ],
          "name": "stdout"
        },
        {
          "output_type": "execute_result",
          "data": {
            "text/html": [
              "<div>\n",
              "<style scoped>\n",
              "    .dataframe tbody tr th:only-of-type {\n",
              "        vertical-align: middle;\n",
              "    }\n",
              "\n",
              "    .dataframe tbody tr th {\n",
              "        vertical-align: top;\n",
              "    }\n",
              "\n",
              "    .dataframe thead th {\n",
              "        text-align: right;\n",
              "    }\n",
              "</style>\n",
              "<table border=\"1\" class=\"dataframe\">\n",
              "  <thead>\n",
              "    <tr style=\"text-align: right;\">\n",
              "      <th></th>\n",
              "      <th>Quantity</th>\n",
              "      <th>Price</th>\n",
              "      <th>Customer ID</th>\n",
              "    </tr>\n",
              "  </thead>\n",
              "  <tbody>\n",
              "    <tr>\n",
              "      <th>count</th>\n",
              "      <td>525461.000000</td>\n",
              "      <td>525461.000000</td>\n",
              "      <td>417534.000000</td>\n",
              "    </tr>\n",
              "    <tr>\n",
              "      <th>mean</th>\n",
              "      <td>10.337667</td>\n",
              "      <td>4.688834</td>\n",
              "      <td>15360.645478</td>\n",
              "    </tr>\n",
              "    <tr>\n",
              "      <th>std</th>\n",
              "      <td>107.424110</td>\n",
              "      <td>146.126914</td>\n",
              "      <td>1680.811316</td>\n",
              "    </tr>\n",
              "    <tr>\n",
              "      <th>min</th>\n",
              "      <td>-9600.000000</td>\n",
              "      <td>-53594.360000</td>\n",
              "      <td>12346.000000</td>\n",
              "    </tr>\n",
              "    <tr>\n",
              "      <th>25%</th>\n",
              "      <td>1.000000</td>\n",
              "      <td>1.250000</td>\n",
              "      <td>13983.000000</td>\n",
              "    </tr>\n",
              "    <tr>\n",
              "      <th>50%</th>\n",
              "      <td>3.000000</td>\n",
              "      <td>2.100000</td>\n",
              "      <td>15311.000000</td>\n",
              "    </tr>\n",
              "    <tr>\n",
              "      <th>75%</th>\n",
              "      <td>10.000000</td>\n",
              "      <td>4.210000</td>\n",
              "      <td>16799.000000</td>\n",
              "    </tr>\n",
              "    <tr>\n",
              "      <th>max</th>\n",
              "      <td>19152.000000</td>\n",
              "      <td>25111.090000</td>\n",
              "      <td>18287.000000</td>\n",
              "    </tr>\n",
              "  </tbody>\n",
              "</table>\n",
              "</div>"
            ],
            "text/plain": [
              "            Quantity          Price    Customer ID\n",
              "count  525461.000000  525461.000000  417534.000000\n",
              "mean       10.337667       4.688834   15360.645478\n",
              "std       107.424110     146.126914    1680.811316\n",
              "min     -9600.000000  -53594.360000   12346.000000\n",
              "25%         1.000000       1.250000   13983.000000\n",
              "50%         3.000000       2.100000   15311.000000\n",
              "75%        10.000000       4.210000   16799.000000\n",
              "max     19152.000000   25111.090000   18287.000000"
            ]
          },
          "metadata": {
            "tags": []
          },
          "execution_count": 3
        }
      ]
    },
    {
      "cell_type": "markdown",
      "metadata": {
        "id": "Vr6dYbtal4vc"
      },
      "source": [
        "From the descriptive stats of numeric features above, we can see negative quantity and price. I first assume those observations are returns recorded as negative sales. \n"
      ]
    },
    {
      "cell_type": "code",
      "metadata": {
        "id": "66zha-foJPwF",
        "colab": {
          "base_uri": "https://localhost:8080/",
          "height": 406
        },
        "outputId": "68639ffd-40a0-4efa-9882-a131af5c3da5"
      },
      "source": [
        "#count the number of attributes having negative quantity\n",
        "sum(df1['Quantity'] < 0 )\n",
        "df_temp = df1[df1['Quantity'] <0]\n",
        "df_temp.sort_values(by = ['Quantity'])"
      ],
      "execution_count": null,
      "outputs": [
        {
          "output_type": "execute_result",
          "data": {
            "text/html": [
              "<div>\n",
              "<style scoped>\n",
              "    .dataframe tbody tr th:only-of-type {\n",
              "        vertical-align: middle;\n",
              "    }\n",
              "\n",
              "    .dataframe tbody tr th {\n",
              "        vertical-align: top;\n",
              "    }\n",
              "\n",
              "    .dataframe thead th {\n",
              "        text-align: right;\n",
              "    }\n",
              "</style>\n",
              "<table border=\"1\" class=\"dataframe\">\n",
              "  <thead>\n",
              "    <tr style=\"text-align: right;\">\n",
              "      <th></th>\n",
              "      <th>Invoice</th>\n",
              "      <th>StockCode</th>\n",
              "      <th>Description</th>\n",
              "      <th>Quantity</th>\n",
              "      <th>InvoiceDate</th>\n",
              "      <th>Price</th>\n",
              "      <th>Customer ID</th>\n",
              "      <th>Country</th>\n",
              "    </tr>\n",
              "  </thead>\n",
              "  <tbody>\n",
              "    <tr>\n",
              "      <th>303996</th>\n",
              "      <td>519017</td>\n",
              "      <td>22759</td>\n",
              "      <td>NaN</td>\n",
              "      <td>-9600</td>\n",
              "      <td>2010-08-13 09:14:00</td>\n",
              "      <td>0.00</td>\n",
              "      <td>NaN</td>\n",
              "      <td>United Kingdom</td>\n",
              "    </tr>\n",
              "    <tr>\n",
              "      <th>507225</th>\n",
              "      <td>C536757</td>\n",
              "      <td>84347</td>\n",
              "      <td>ROTATING SILVER ANGELS T-LIGHT HLDR</td>\n",
              "      <td>-9360</td>\n",
              "      <td>2010-12-02 14:23:00</td>\n",
              "      <td>0.03</td>\n",
              "      <td>15838.0</td>\n",
              "      <td>United Kingdom</td>\n",
              "    </tr>\n",
              "    <tr>\n",
              "      <th>156488</th>\n",
              "      <td>504311</td>\n",
              "      <td>22197</td>\n",
              "      <td>NaN</td>\n",
              "      <td>-9200</td>\n",
              "      <td>2010-04-12 14:39:00</td>\n",
              "      <td>0.00</td>\n",
              "      <td>NaN</td>\n",
              "      <td>United Kingdom</td>\n",
              "    </tr>\n",
              "    <tr>\n",
              "      <th>428975</th>\n",
              "      <td>530348</td>\n",
              "      <td>16235</td>\n",
              "      <td>?</td>\n",
              "      <td>-9000</td>\n",
              "      <td>2010-11-02 15:48:00</td>\n",
              "      <td>0.00</td>\n",
              "      <td>NaN</td>\n",
              "      <td>United Kingdom</td>\n",
              "    </tr>\n",
              "    <tr>\n",
              "      <th>194372</th>\n",
              "      <td>507913</td>\n",
              "      <td>10120</td>\n",
              "      <td>Zebra invcing error</td>\n",
              "      <td>-9000</td>\n",
              "      <td>2010-05-11 17:16:00</td>\n",
              "      <td>0.00</td>\n",
              "      <td>NaN</td>\n",
              "      <td>United Kingdom</td>\n",
              "    </tr>\n",
              "    <tr>\n",
              "      <th>...</th>\n",
              "      <td>...</td>\n",
              "      <td>...</td>\n",
              "      <td>...</td>\n",
              "      <td>...</td>\n",
              "      <td>...</td>\n",
              "      <td>...</td>\n",
              "      <td>...</td>\n",
              "      <td>...</td>\n",
              "    </tr>\n",
              "    <tr>\n",
              "      <th>271988</th>\n",
              "      <td>C515790</td>\n",
              "      <td>15036</td>\n",
              "      <td>ASSORTED COLOURS SILK FAN</td>\n",
              "      <td>-1</td>\n",
              "      <td>2010-07-14 15:53:00</td>\n",
              "      <td>0.75</td>\n",
              "      <td>16180.0</td>\n",
              "      <td>United Kingdom</td>\n",
              "    </tr>\n",
              "    <tr>\n",
              "      <th>271986</th>\n",
              "      <td>C515790</td>\n",
              "      <td>20828</td>\n",
              "      <td>GLITTER BUTTERFLY CLIPS</td>\n",
              "      <td>-1</td>\n",
              "      <td>2010-07-14 15:53:00</td>\n",
              "      <td>2.55</td>\n",
              "      <td>16180.0</td>\n",
              "      <td>United Kingdom</td>\n",
              "    </tr>\n",
              "    <tr>\n",
              "      <th>64590</th>\n",
              "      <td>C495170</td>\n",
              "      <td>21545</td>\n",
              "      <td>CERAMIC BIRDHOUSE BUTTERFLY SMALL</td>\n",
              "      <td>-1</td>\n",
              "      <td>2010-01-21 12:45:00</td>\n",
              "      <td>2.95</td>\n",
              "      <td>13148.0</td>\n",
              "      <td>United Kingdom</td>\n",
              "    </tr>\n",
              "    <tr>\n",
              "      <th>271982</th>\n",
              "      <td>C515787</td>\n",
              "      <td>22502</td>\n",
              "      <td>PICNIC BASKET WICKER SMALL</td>\n",
              "      <td>-1</td>\n",
              "      <td>2010-07-14 15:46:00</td>\n",
              "      <td>4.25</td>\n",
              "      <td>14621.0</td>\n",
              "      <td>United Kingdom</td>\n",
              "    </tr>\n",
              "    <tr>\n",
              "      <th>525282</th>\n",
              "      <td>C538164</td>\n",
              "      <td>35004B</td>\n",
              "      <td>SET OF 3 BLACK FLYING DUCKS</td>\n",
              "      <td>-1</td>\n",
              "      <td>2010-12-09 17:32:00</td>\n",
              "      <td>1.95</td>\n",
              "      <td>14031.0</td>\n",
              "      <td>United Kingdom</td>\n",
              "    </tr>\n",
              "  </tbody>\n",
              "</table>\n",
              "<p>12326 rows × 8 columns</p>\n",
              "</div>"
            ],
            "text/plain": [
              "        Invoice StockCode  ... Customer ID         Country\n",
              "303996   519017     22759  ...         NaN  United Kingdom\n",
              "507225  C536757     84347  ...     15838.0  United Kingdom\n",
              "156488   504311     22197  ...         NaN  United Kingdom\n",
              "428975   530348     16235  ...         NaN  United Kingdom\n",
              "194372   507913     10120  ...         NaN  United Kingdom\n",
              "...         ...       ...  ...         ...             ...\n",
              "271988  C515790     15036  ...     16180.0  United Kingdom\n",
              "271986  C515790     20828  ...     16180.0  United Kingdom\n",
              "64590   C495170     21545  ...     13148.0  United Kingdom\n",
              "271982  C515787     22502  ...     14621.0  United Kingdom\n",
              "525282  C538164    35004B  ...     14031.0  United Kingdom\n",
              "\n",
              "[12326 rows x 8 columns]"
            ]
          },
          "metadata": {
            "tags": []
          },
          "execution_count": 4
        }
      ]
    },
    {
      "cell_type": "markdown",
      "metadata": {
        "id": "8UzbJz8-dOM3"
      },
      "source": [
        "It seems that some negative quantities represent errors. I cannot wildly assume that some certain transactions are errors while the others are returns, so I exclude all attirbutes with negative quantities from the future analyses."
      ]
    },
    {
      "cell_type": "code",
      "metadata": {
        "id": "SCfo3nOhaY-I",
        "colab": {
          "base_uri": "https://localhost:8080/",
          "height": 406
        },
        "outputId": "cc546c4e-7a49-4fa7-c50a-99de8b5f389b"
      },
      "source": [
        "df_temp = df1[df1['Quantity'] <0]\n",
        "df_temp.sort_values(by = ['Quantity'])"
      ],
      "execution_count": null,
      "outputs": [
        {
          "output_type": "execute_result",
          "data": {
            "text/html": [
              "<div>\n",
              "<style scoped>\n",
              "    .dataframe tbody tr th:only-of-type {\n",
              "        vertical-align: middle;\n",
              "    }\n",
              "\n",
              "    .dataframe tbody tr th {\n",
              "        vertical-align: top;\n",
              "    }\n",
              "\n",
              "    .dataframe thead th {\n",
              "        text-align: right;\n",
              "    }\n",
              "</style>\n",
              "<table border=\"1\" class=\"dataframe\">\n",
              "  <thead>\n",
              "    <tr style=\"text-align: right;\">\n",
              "      <th></th>\n",
              "      <th>Invoice</th>\n",
              "      <th>StockCode</th>\n",
              "      <th>Description</th>\n",
              "      <th>Quantity</th>\n",
              "      <th>InvoiceDate</th>\n",
              "      <th>Price</th>\n",
              "      <th>Customer ID</th>\n",
              "      <th>Country</th>\n",
              "    </tr>\n",
              "  </thead>\n",
              "  <tbody>\n",
              "    <tr>\n",
              "      <th>303996</th>\n",
              "      <td>519017</td>\n",
              "      <td>22759</td>\n",
              "      <td>NaN</td>\n",
              "      <td>-9600</td>\n",
              "      <td>2010-08-13 09:14:00</td>\n",
              "      <td>0.00</td>\n",
              "      <td>NaN</td>\n",
              "      <td>United Kingdom</td>\n",
              "    </tr>\n",
              "    <tr>\n",
              "      <th>507225</th>\n",
              "      <td>C536757</td>\n",
              "      <td>84347</td>\n",
              "      <td>ROTATING SILVER ANGELS T-LIGHT HLDR</td>\n",
              "      <td>-9360</td>\n",
              "      <td>2010-12-02 14:23:00</td>\n",
              "      <td>0.03</td>\n",
              "      <td>15838.0</td>\n",
              "      <td>United Kingdom</td>\n",
              "    </tr>\n",
              "    <tr>\n",
              "      <th>156488</th>\n",
              "      <td>504311</td>\n",
              "      <td>22197</td>\n",
              "      <td>NaN</td>\n",
              "      <td>-9200</td>\n",
              "      <td>2010-04-12 14:39:00</td>\n",
              "      <td>0.00</td>\n",
              "      <td>NaN</td>\n",
              "      <td>United Kingdom</td>\n",
              "    </tr>\n",
              "    <tr>\n",
              "      <th>428975</th>\n",
              "      <td>530348</td>\n",
              "      <td>16235</td>\n",
              "      <td>?</td>\n",
              "      <td>-9000</td>\n",
              "      <td>2010-11-02 15:48:00</td>\n",
              "      <td>0.00</td>\n",
              "      <td>NaN</td>\n",
              "      <td>United Kingdom</td>\n",
              "    </tr>\n",
              "    <tr>\n",
              "      <th>194372</th>\n",
              "      <td>507913</td>\n",
              "      <td>10120</td>\n",
              "      <td>Zebra invcing error</td>\n",
              "      <td>-9000</td>\n",
              "      <td>2010-05-11 17:16:00</td>\n",
              "      <td>0.00</td>\n",
              "      <td>NaN</td>\n",
              "      <td>United Kingdom</td>\n",
              "    </tr>\n",
              "    <tr>\n",
              "      <th>...</th>\n",
              "      <td>...</td>\n",
              "      <td>...</td>\n",
              "      <td>...</td>\n",
              "      <td>...</td>\n",
              "      <td>...</td>\n",
              "      <td>...</td>\n",
              "      <td>...</td>\n",
              "      <td>...</td>\n",
              "    </tr>\n",
              "    <tr>\n",
              "      <th>271988</th>\n",
              "      <td>C515790</td>\n",
              "      <td>15036</td>\n",
              "      <td>ASSORTED COLOURS SILK FAN</td>\n",
              "      <td>-1</td>\n",
              "      <td>2010-07-14 15:53:00</td>\n",
              "      <td>0.75</td>\n",
              "      <td>16180.0</td>\n",
              "      <td>United Kingdom</td>\n",
              "    </tr>\n",
              "    <tr>\n",
              "      <th>271986</th>\n",
              "      <td>C515790</td>\n",
              "      <td>20828</td>\n",
              "      <td>GLITTER BUTTERFLY CLIPS</td>\n",
              "      <td>-1</td>\n",
              "      <td>2010-07-14 15:53:00</td>\n",
              "      <td>2.55</td>\n",
              "      <td>16180.0</td>\n",
              "      <td>United Kingdom</td>\n",
              "    </tr>\n",
              "    <tr>\n",
              "      <th>64590</th>\n",
              "      <td>C495170</td>\n",
              "      <td>21545</td>\n",
              "      <td>CERAMIC BIRDHOUSE BUTTERFLY SMALL</td>\n",
              "      <td>-1</td>\n",
              "      <td>2010-01-21 12:45:00</td>\n",
              "      <td>2.95</td>\n",
              "      <td>13148.0</td>\n",
              "      <td>United Kingdom</td>\n",
              "    </tr>\n",
              "    <tr>\n",
              "      <th>271982</th>\n",
              "      <td>C515787</td>\n",
              "      <td>22502</td>\n",
              "      <td>PICNIC BASKET WICKER SMALL</td>\n",
              "      <td>-1</td>\n",
              "      <td>2010-07-14 15:46:00</td>\n",
              "      <td>4.25</td>\n",
              "      <td>14621.0</td>\n",
              "      <td>United Kingdom</td>\n",
              "    </tr>\n",
              "    <tr>\n",
              "      <th>525282</th>\n",
              "      <td>C538164</td>\n",
              "      <td>35004B</td>\n",
              "      <td>SET OF 3 BLACK FLYING DUCKS</td>\n",
              "      <td>-1</td>\n",
              "      <td>2010-12-09 17:32:00</td>\n",
              "      <td>1.95</td>\n",
              "      <td>14031.0</td>\n",
              "      <td>United Kingdom</td>\n",
              "    </tr>\n",
              "  </tbody>\n",
              "</table>\n",
              "<p>12326 rows × 8 columns</p>\n",
              "</div>"
            ],
            "text/plain": [
              "        Invoice StockCode  ... Customer ID         Country\n",
              "303996   519017     22759  ...         NaN  United Kingdom\n",
              "507225  C536757     84347  ...     15838.0  United Kingdom\n",
              "156488   504311     22197  ...         NaN  United Kingdom\n",
              "428975   530348     16235  ...         NaN  United Kingdom\n",
              "194372   507913     10120  ...         NaN  United Kingdom\n",
              "...         ...       ...  ...         ...             ...\n",
              "271988  C515790     15036  ...     16180.0  United Kingdom\n",
              "271986  C515790     20828  ...     16180.0  United Kingdom\n",
              "64590   C495170     21545  ...     13148.0  United Kingdom\n",
              "271982  C515787     22502  ...     14621.0  United Kingdom\n",
              "525282  C538164    35004B  ...     14031.0  United Kingdom\n",
              "\n",
              "[12326 rows x 8 columns]"
            ]
          },
          "metadata": {
            "tags": []
          },
          "execution_count": 5
        }
      ]
    },
    {
      "cell_type": "code",
      "metadata": {
        "id": "RWsJqQ3XJgkA",
        "colab": {
          "base_uri": "https://localhost:8080/",
          "height": 34
        },
        "outputId": "ec799ef9-2eea-4974-c9b3-7b82c24dbbe1"
      },
      "source": [
        "sum(df1['Price'] < 0 )"
      ],
      "execution_count": null,
      "outputs": [
        {
          "output_type": "execute_result",
          "data": {
            "text/plain": [
              "3"
            ]
          },
          "metadata": {
            "tags": []
          },
          "execution_count": 6
        }
      ]
    },
    {
      "cell_type": "code",
      "metadata": {
        "id": "iPrIExm6ftlb",
        "colab": {
          "base_uri": "https://localhost:8080/",
          "height": 406
        },
        "outputId": "a95012cd-af12-4f4e-a70f-2479c69e698a"
      },
      "source": [
        "df1.sort_values(by = ['Price'])"
      ],
      "execution_count": null,
      "outputs": [
        {
          "output_type": "execute_result",
          "data": {
            "text/html": [
              "<div>\n",
              "<style scoped>\n",
              "    .dataframe tbody tr th:only-of-type {\n",
              "        vertical-align: middle;\n",
              "    }\n",
              "\n",
              "    .dataframe tbody tr th {\n",
              "        vertical-align: top;\n",
              "    }\n",
              "\n",
              "    .dataframe thead th {\n",
              "        text-align: right;\n",
              "    }\n",
              "</style>\n",
              "<table border=\"1\" class=\"dataframe\">\n",
              "  <thead>\n",
              "    <tr style=\"text-align: right;\">\n",
              "      <th></th>\n",
              "      <th>Invoice</th>\n",
              "      <th>StockCode</th>\n",
              "      <th>Description</th>\n",
              "      <th>Quantity</th>\n",
              "      <th>InvoiceDate</th>\n",
              "      <th>Price</th>\n",
              "      <th>Customer ID</th>\n",
              "      <th>Country</th>\n",
              "    </tr>\n",
              "  </thead>\n",
              "  <tbody>\n",
              "    <tr>\n",
              "      <th>179403</th>\n",
              "      <td>A506401</td>\n",
              "      <td>B</td>\n",
              "      <td>Adjust bad debt</td>\n",
              "      <td>1</td>\n",
              "      <td>2010-04-29 13:36:00</td>\n",
              "      <td>-53594.36</td>\n",
              "      <td>NaN</td>\n",
              "      <td>United Kingdom</td>\n",
              "    </tr>\n",
              "    <tr>\n",
              "      <th>276274</th>\n",
              "      <td>A516228</td>\n",
              "      <td>B</td>\n",
              "      <td>Adjust bad debt</td>\n",
              "      <td>1</td>\n",
              "      <td>2010-07-19 11:24:00</td>\n",
              "      <td>-44031.79</td>\n",
              "      <td>NaN</td>\n",
              "      <td>United Kingdom</td>\n",
              "    </tr>\n",
              "    <tr>\n",
              "      <th>403472</th>\n",
              "      <td>A528059</td>\n",
              "      <td>B</td>\n",
              "      <td>Adjust bad debt</td>\n",
              "      <td>1</td>\n",
              "      <td>2010-10-20 12:04:00</td>\n",
              "      <td>-38925.87</td>\n",
              "      <td>NaN</td>\n",
              "      <td>United Kingdom</td>\n",
              "    </tr>\n",
              "    <tr>\n",
              "      <th>264267</th>\n",
              "      <td>514947</td>\n",
              "      <td>84509F</td>\n",
              "      <td>NaN</td>\n",
              "      <td>-23</td>\n",
              "      <td>2010-07-07 11:45:00</td>\n",
              "      <td>0.00</td>\n",
              "      <td>NaN</td>\n",
              "      <td>United Kingdom</td>\n",
              "    </tr>\n",
              "    <tr>\n",
              "      <th>221076</th>\n",
              "      <td>510876</td>\n",
              "      <td>90025B</td>\n",
              "      <td>NaN</td>\n",
              "      <td>-42</td>\n",
              "      <td>2010-06-04 09:58:00</td>\n",
              "      <td>0.00</td>\n",
              "      <td>NaN</td>\n",
              "      <td>United Kingdom</td>\n",
              "    </tr>\n",
              "    <tr>\n",
              "      <th>...</th>\n",
              "      <td>...</td>\n",
              "      <td>...</td>\n",
              "      <td>...</td>\n",
              "      <td>...</td>\n",
              "      <td>...</td>\n",
              "      <td>...</td>\n",
              "      <td>...</td>\n",
              "      <td>...</td>\n",
              "    </tr>\n",
              "    <tr>\n",
              "      <th>519294</th>\n",
              "      <td>C537651</td>\n",
              "      <td>AMAZONFEE</td>\n",
              "      <td>AMAZON FEE</td>\n",
              "      <td>-1</td>\n",
              "      <td>2010-12-07 15:49:00</td>\n",
              "      <td>13541.33</td>\n",
              "      <td>NaN</td>\n",
              "      <td>United Kingdom</td>\n",
              "    </tr>\n",
              "    <tr>\n",
              "      <th>517955</th>\n",
              "      <td>537632</td>\n",
              "      <td>AMAZONFEE</td>\n",
              "      <td>AMAZON FEE</td>\n",
              "      <td>1</td>\n",
              "      <td>2010-12-07 15:08:00</td>\n",
              "      <td>13541.33</td>\n",
              "      <td>NaN</td>\n",
              "      <td>United Kingdom</td>\n",
              "    </tr>\n",
              "    <tr>\n",
              "      <th>320581</th>\n",
              "      <td>C520667</td>\n",
              "      <td>BANK CHARGES</td>\n",
              "      <td>Bank Charges</td>\n",
              "      <td>-1</td>\n",
              "      <td>2010-08-27 13:42:00</td>\n",
              "      <td>18910.69</td>\n",
              "      <td>NaN</td>\n",
              "      <td>United Kingdom</td>\n",
              "    </tr>\n",
              "    <tr>\n",
              "      <th>241827</th>\n",
              "      <td>512771</td>\n",
              "      <td>M</td>\n",
              "      <td>Manual</td>\n",
              "      <td>1</td>\n",
              "      <td>2010-06-17 16:53:00</td>\n",
              "      <td>25111.09</td>\n",
              "      <td>NaN</td>\n",
              "      <td>United Kingdom</td>\n",
              "    </tr>\n",
              "    <tr>\n",
              "      <th>241824</th>\n",
              "      <td>C512770</td>\n",
              "      <td>M</td>\n",
              "      <td>Manual</td>\n",
              "      <td>-1</td>\n",
              "      <td>2010-06-17 16:52:00</td>\n",
              "      <td>25111.09</td>\n",
              "      <td>17399.0</td>\n",
              "      <td>United Kingdom</td>\n",
              "    </tr>\n",
              "  </tbody>\n",
              "</table>\n",
              "<p>525461 rows × 8 columns</p>\n",
              "</div>"
            ],
            "text/plain": [
              "        Invoice     StockCode  ... Customer ID         Country\n",
              "179403  A506401             B  ...         NaN  United Kingdom\n",
              "276274  A516228             B  ...         NaN  United Kingdom\n",
              "403472  A528059             B  ...         NaN  United Kingdom\n",
              "264267   514947        84509F  ...         NaN  United Kingdom\n",
              "221076   510876        90025B  ...         NaN  United Kingdom\n",
              "...         ...           ...  ...         ...             ...\n",
              "519294  C537651     AMAZONFEE  ...         NaN  United Kingdom\n",
              "517955   537632     AMAZONFEE  ...         NaN  United Kingdom\n",
              "320581  C520667  BANK CHARGES  ...         NaN  United Kingdom\n",
              "241827   512771             M  ...         NaN  United Kingdom\n",
              "241824  C512770             M  ...     17399.0  United Kingdom\n",
              "\n",
              "[525461 rows x 8 columns]"
            ]
          },
          "metadata": {
            "tags": []
          },
          "execution_count": 7
        }
      ]
    },
    {
      "cell_type": "markdown",
      "metadata": {
        "id": "J1oUm3riKZJK"
      },
      "source": [
        "I will also exclude the observations with negative price from the future analysis because negative price is used for adjusting bad debt."
      ]
    },
    {
      "cell_type": "code",
      "metadata": {
        "id": "Bdu2Xw8UWsAK",
        "colab": {
          "base_uri": "https://localhost:8080/",
          "height": 167
        },
        "outputId": "94487962-2e92-46e0-8ede-134542701732"
      },
      "source": [
        "#See statistics on non-numerical features\n",
        "df1['Customer ID'] = df1['Customer ID'].astype('object')\n",
        "df1.describe(include = ['object'])"
      ],
      "execution_count": null,
      "outputs": [
        {
          "output_type": "execute_result",
          "data": {
            "text/html": [
              "<div>\n",
              "<style scoped>\n",
              "    .dataframe tbody tr th:only-of-type {\n",
              "        vertical-align: middle;\n",
              "    }\n",
              "\n",
              "    .dataframe tbody tr th {\n",
              "        vertical-align: top;\n",
              "    }\n",
              "\n",
              "    .dataframe thead th {\n",
              "        text-align: right;\n",
              "    }\n",
              "</style>\n",
              "<table border=\"1\" class=\"dataframe\">\n",
              "  <thead>\n",
              "    <tr style=\"text-align: right;\">\n",
              "      <th></th>\n",
              "      <th>Invoice</th>\n",
              "      <th>StockCode</th>\n",
              "      <th>Description</th>\n",
              "      <th>Customer ID</th>\n",
              "      <th>Country</th>\n",
              "    </tr>\n",
              "  </thead>\n",
              "  <tbody>\n",
              "    <tr>\n",
              "      <th>count</th>\n",
              "      <td>525461</td>\n",
              "      <td>525461</td>\n",
              "      <td>522533</td>\n",
              "      <td>417534.0</td>\n",
              "      <td>525461</td>\n",
              "    </tr>\n",
              "    <tr>\n",
              "      <th>unique</th>\n",
              "      <td>28816</td>\n",
              "      <td>4632</td>\n",
              "      <td>4681</td>\n",
              "      <td>4383.0</td>\n",
              "      <td>40</td>\n",
              "    </tr>\n",
              "    <tr>\n",
              "      <th>top</th>\n",
              "      <td>537434</td>\n",
              "      <td>85123A</td>\n",
              "      <td>WHITE HANGING HEART T-LIGHT HOLDER</td>\n",
              "      <td>14911.0</td>\n",
              "      <td>United Kingdom</td>\n",
              "    </tr>\n",
              "    <tr>\n",
              "      <th>freq</th>\n",
              "      <td>675</td>\n",
              "      <td>3516</td>\n",
              "      <td>3549</td>\n",
              "      <td>5710.0</td>\n",
              "      <td>485852</td>\n",
              "    </tr>\n",
              "  </tbody>\n",
              "</table>\n",
              "</div>"
            ],
            "text/plain": [
              "        Invoice StockCode  ... Customer ID         Country\n",
              "count    525461    525461  ...    417534.0          525461\n",
              "unique    28816      4632  ...      4383.0              40\n",
              "top      537434    85123A  ...     14911.0  United Kingdom\n",
              "freq        675      3516  ...      5710.0          485852\n",
              "\n",
              "[4 rows x 5 columns]"
            ]
          },
          "metadata": {
            "tags": []
          },
          "execution_count": 8
        }
      ]
    },
    {
      "cell_type": "markdown",
      "metadata": {
        "id": "Ht88YEMKjz7w"
      },
      "source": [
        "From the simple EDA above, we know that there are 4,632 unique items because there are 4,632 unique StockCode. I assume that an item has one StockCode and has one description. \n",
        "\n",
        "\n",
        "Also, if we combinie the general information and the stats of both the numerical features and the non-numerical features, we can conclude that:\n",
        "\n",
        "1. There are 525,461 transactions with 525,461 invoice. Among the 525,461 invoice, there are 28,816 unique invoice.\n",
        "\n",
        "2. There are 525,461 non-empty stock codes and 4,632 unique stock codes, which means that there are 4,632 different goods in the 525,461 transactions.\n",
        "\n",
        "3. There are 522,533 non-empty product descriptions, where 4681 are unique. The number of unique product description is greater than the number of unique products. This shows that the same product might have different product descriptions, or 9 descriptions were recorded wrong, if the stock codes were recorded corretly.\n",
        "\n",
        "4. There are 12,326 observations that have negative quantities, 3 observations that have negative price. They will be excluded for the analyses below.\n",
        "\n",
        "5. There are 417,534 non-missing and 4383 unique customer IDS. "
      ]
    },
    {
      "cell_type": "code",
      "metadata": {
        "id": "gJDvbK0dnqrN",
        "colab": {
          "base_uri": "https://localhost:8080/",
          "height": 287
        },
        "outputId": "fafd2805-b2e9-4f22-dd07-20f75c7d5545"
      },
      "source": [
        "#Exclude the attributes with negative prices and quantities\n",
        "df1 = df1[df1['Price'] >= 0]\n",
        "df1 = df1[df1['Quantity'] >= 0]\n",
        "df1.describe()"
      ],
      "execution_count": null,
      "outputs": [
        {
          "output_type": "execute_result",
          "data": {
            "text/html": [
              "<div>\n",
              "<style scoped>\n",
              "    .dataframe tbody tr th:only-of-type {\n",
              "        vertical-align: middle;\n",
              "    }\n",
              "\n",
              "    .dataframe tbody tr th {\n",
              "        vertical-align: top;\n",
              "    }\n",
              "\n",
              "    .dataframe thead th {\n",
              "        text-align: right;\n",
              "    }\n",
              "</style>\n",
              "<table border=\"1\" class=\"dataframe\">\n",
              "  <thead>\n",
              "    <tr style=\"text-align: right;\">\n",
              "      <th></th>\n",
              "      <th>Quantity</th>\n",
              "      <th>Price</th>\n",
              "    </tr>\n",
              "  </thead>\n",
              "  <tbody>\n",
              "    <tr>\n",
              "      <th>count</th>\n",
              "      <td>513132.000000</td>\n",
              "      <td>513132.000000</td>\n",
              "    </tr>\n",
              "    <tr>\n",
              "      <th>mean</th>\n",
              "      <td>11.715475</td>\n",
              "      <td>4.239585</td>\n",
              "    </tr>\n",
              "    <tr>\n",
              "      <th>std</th>\n",
              "      <td>92.974904</td>\n",
              "      <td>63.567840</td>\n",
              "    </tr>\n",
              "    <tr>\n",
              "      <th>min</th>\n",
              "      <td>1.000000</td>\n",
              "      <td>0.000000</td>\n",
              "    </tr>\n",
              "    <tr>\n",
              "      <th>25%</th>\n",
              "      <td>1.000000</td>\n",
              "      <td>1.250000</td>\n",
              "    </tr>\n",
              "    <tr>\n",
              "      <th>50%</th>\n",
              "      <td>3.000000</td>\n",
              "      <td>2.100000</td>\n",
              "    </tr>\n",
              "    <tr>\n",
              "      <th>75%</th>\n",
              "      <td>10.000000</td>\n",
              "      <td>4.210000</td>\n",
              "    </tr>\n",
              "    <tr>\n",
              "      <th>max</th>\n",
              "      <td>19152.000000</td>\n",
              "      <td>25111.090000</td>\n",
              "    </tr>\n",
              "  </tbody>\n",
              "</table>\n",
              "</div>"
            ],
            "text/plain": [
              "            Quantity          Price\n",
              "count  513132.000000  513132.000000\n",
              "mean       11.715475       4.239585\n",
              "std        92.974904      63.567840\n",
              "min         1.000000       0.000000\n",
              "25%         1.000000       1.250000\n",
              "50%         3.000000       2.100000\n",
              "75%        10.000000       4.210000\n",
              "max     19152.000000   25111.090000"
            ]
          },
          "metadata": {
            "tags": []
          },
          "execution_count": 9
        }
      ]
    },
    {
      "cell_type": "markdown",
      "metadata": {
        "id": "JpAvCP4jgbqE"
      },
      "source": [
        "## Part A"
      ]
    },
    {
      "cell_type": "markdown",
      "metadata": {
        "id": "iFaao3U0pCqv"
      },
      "source": [
        "**Q: For 2009-2010, what item has sold in the highest quantity overall? Create a chart with its monthly sales.**"
      ]
    },
    {
      "cell_type": "markdown",
      "metadata": {
        "id": "EgsDtqYgqkSS"
      },
      "source": [
        "I will add up the sales quantities by item to get an overall sales quantity for each item, then sort the observations by the descending overall sales quantity. And the first item on the table will be the item with the highest overall sales quantity."
      ]
    },
    {
      "cell_type": "code",
      "metadata": {
        "id": "K9iy8h7gvq9o",
        "colab": {
          "base_uri": "https://localhost:8080/",
          "height": 265
        },
        "outputId": "47a429f1-bb27-4f1d-a8d9-8a2dd9c02a45"
      },
      "source": [
        "# Item with the highest overall quantity\n",
        "group1 = df1.groupby(['StockCode'], sort=True).sum().reset_index()\n",
        "group1 = group1.sort_values(by=['Quantity'], ascending=[False])\n",
        "print(group1)"
      ],
      "execution_count": null,
      "outputs": [
        {
          "output_type": "stream",
          "text": [
            "     StockCode  Quantity     Price\n",
            "499      21212     60141   1282.78\n",
            "3856    85123A     58488  10423.96\n",
            "2362     84077     55202    123.45\n",
            "3841    85099B     49878   4368.10\n",
            "51       17003     48384     56.28\n",
            "...        ...       ...       ...\n",
            "2423     84572         1      8.49\n",
            "2445     84626         1     45.95\n",
            "3139    47590a         1     11.02\n",
            "2453     84648         1     12.75\n",
            "2711     90068         1      7.50\n",
            "\n",
            "[4316 rows x 3 columns]\n"
          ],
          "name": "stdout"
        }
      ]
    },
    {
      "cell_type": "markdown",
      "metadata": {
        "id": "BxawVKhfwUCw"
      },
      "source": [
        "The item with the highest quantity overall is the item with Stock Code 21212."
      ]
    },
    {
      "cell_type": "code",
      "metadata": {
        "id": "b0pGx4XT1XxF"
      },
      "source": [
        "# Create columns for year, month, and year-month.\n",
        "df1['year'] = pd.DatetimeIndex(df1['InvoiceDate']).year\n",
        "df1['month'] = pd.DatetimeIndex(df1['InvoiceDate']).month\n",
        "df1['yearmonth'] = pd.to_datetime(df1['InvoiceDate']).dt.to_period('M')\n"
      ],
      "execution_count": null,
      "outputs": []
    },
    {
      "cell_type": "code",
      "metadata": {
        "id": "VZOJkZp4zOY0",
        "colab": {
          "base_uri": "https://localhost:8080/",
          "height": 437
        },
        "outputId": "2f706de9-ec47-4a6d-dc99-e7c1bbc44848"
      },
      "source": [
        "# A chart of monthly sales\n",
        "df_temp = df1[df1['StockCode'] == 21212]\n",
        "df_temp = df_temp[['StockCode','Quantity','yearmonth']]\n",
        "group2 = df_temp.groupby(['yearmonth'], sort = True).sum().reset_index()\n",
        "group2 = group2.sort_values(by = ['yearmonth','Quantity'], ascending = [True,False])\n",
        "group2"
      ],
      "execution_count": null,
      "outputs": [
        {
          "output_type": "execute_result",
          "data": {
            "text/html": [
              "<div>\n",
              "<style scoped>\n",
              "    .dataframe tbody tr th:only-of-type {\n",
              "        vertical-align: middle;\n",
              "    }\n",
              "\n",
              "    .dataframe tbody tr th {\n",
              "        vertical-align: top;\n",
              "    }\n",
              "\n",
              "    .dataframe thead th {\n",
              "        text-align: right;\n",
              "    }\n",
              "</style>\n",
              "<table border=\"1\" class=\"dataframe\">\n",
              "  <thead>\n",
              "    <tr style=\"text-align: right;\">\n",
              "      <th></th>\n",
              "      <th>yearmonth</th>\n",
              "      <th>Quantity</th>\n",
              "    </tr>\n",
              "  </thead>\n",
              "  <tbody>\n",
              "    <tr>\n",
              "      <th>0</th>\n",
              "      <td>2009-12</td>\n",
              "      <td>5006</td>\n",
              "    </tr>\n",
              "    <tr>\n",
              "      <th>1</th>\n",
              "      <td>2010-01</td>\n",
              "      <td>3924</td>\n",
              "    </tr>\n",
              "    <tr>\n",
              "      <th>2</th>\n",
              "      <td>2010-02</td>\n",
              "      <td>4267</td>\n",
              "    </tr>\n",
              "    <tr>\n",
              "      <th>3</th>\n",
              "      <td>2010-03</td>\n",
              "      <td>4643</td>\n",
              "    </tr>\n",
              "    <tr>\n",
              "      <th>4</th>\n",
              "      <td>2010-04</td>\n",
              "      <td>5365</td>\n",
              "    </tr>\n",
              "    <tr>\n",
              "      <th>5</th>\n",
              "      <td>2010-05</td>\n",
              "      <td>4336</td>\n",
              "    </tr>\n",
              "    <tr>\n",
              "      <th>6</th>\n",
              "      <td>2010-06</td>\n",
              "      <td>4684</td>\n",
              "    </tr>\n",
              "    <tr>\n",
              "      <th>7</th>\n",
              "      <td>2010-07</td>\n",
              "      <td>4493</td>\n",
              "    </tr>\n",
              "    <tr>\n",
              "      <th>8</th>\n",
              "      <td>2010-08</td>\n",
              "      <td>4748</td>\n",
              "    </tr>\n",
              "    <tr>\n",
              "      <th>9</th>\n",
              "      <td>2010-09</td>\n",
              "      <td>4668</td>\n",
              "    </tr>\n",
              "    <tr>\n",
              "      <th>10</th>\n",
              "      <td>2010-10</td>\n",
              "      <td>6568</td>\n",
              "    </tr>\n",
              "    <tr>\n",
              "      <th>11</th>\n",
              "      <td>2010-11</td>\n",
              "      <td>5851</td>\n",
              "    </tr>\n",
              "    <tr>\n",
              "      <th>12</th>\n",
              "      <td>2010-12</td>\n",
              "      <td>1588</td>\n",
              "    </tr>\n",
              "  </tbody>\n",
              "</table>\n",
              "</div>"
            ],
            "text/plain": [
              "   yearmonth  Quantity\n",
              "0    2009-12      5006\n",
              "1    2010-01      3924\n",
              "2    2010-02      4267\n",
              "3    2010-03      4643\n",
              "4    2010-04      5365\n",
              "5    2010-05      4336\n",
              "6    2010-06      4684\n",
              "7    2010-07      4493\n",
              "8    2010-08      4748\n",
              "9    2010-09      4668\n",
              "10   2010-10      6568\n",
              "11   2010-11      5851\n",
              "12   2010-12      1588"
            ]
          },
          "metadata": {
            "tags": []
          },
          "execution_count": 12
        }
      ]
    },
    {
      "cell_type": "markdown",
      "metadata": {
        "id": "3FL0-GQfgjz3"
      },
      "source": [
        "## Part B"
      ]
    },
    {
      "cell_type": "markdown",
      "metadata": {
        "id": "F8hkptMe455v"
      },
      "source": [
        "**Q: For 2009-2010, plot the number of total items sold per week in each of the top 5 selling countries (top as in sold the most total items over the 2009-2010 data period), excluding the United Kingdom. Show this as a single line plot with a line for each country.**\n",
        "\n",
        "**Separately, plot the number of orders per week for the 5 countries (excluding United Kingdom) with the highest number of orders in the 2009-2010 data period.**"
      ]
    },
    {
      "cell_type": "code",
      "metadata": {
        "id": "gn2sRHAqL8Hm",
        "colab": {
          "base_uri": "https://localhost:8080/",
          "height": 227
        },
        "outputId": "12f1bd96-d449-4032-a7bd-abddba84ffd1"
      },
      "source": [
        "#Top 5 selling countries over the 2009-2010 period\n",
        "group3 = df1.groupby(['Country'], sort=True).sum().reset_index()\n",
        "group3 = group3.sort_values(by=['Quantity'], ascending=[False])\n",
        "group3.head(6)"
      ],
      "execution_count": null,
      "outputs": [
        {
          "output_type": "execute_result",
          "data": {
            "text/html": [
              "<div>\n",
              "<style scoped>\n",
              "    .dataframe tbody tr th:only-of-type {\n",
              "        vertical-align: middle;\n",
              "    }\n",
              "\n",
              "    .dataframe tbody tr th {\n",
              "        vertical-align: top;\n",
              "    }\n",
              "\n",
              "    .dataframe thead th {\n",
              "        text-align: right;\n",
              "    }\n",
              "</style>\n",
              "<table border=\"1\" class=\"dataframe\">\n",
              "  <thead>\n",
              "    <tr style=\"text-align: right;\">\n",
              "      <th></th>\n",
              "      <th>Country</th>\n",
              "      <th>Quantity</th>\n",
              "      <th>Price</th>\n",
              "      <th>year</th>\n",
              "      <th>month</th>\n",
              "    </tr>\n",
              "  </thead>\n",
              "  <tbody>\n",
              "    <tr>\n",
              "      <th>37</th>\n",
              "      <td>United Kingdom</td>\n",
              "      <td>4900418</td>\n",
              "      <td>1.987008e+06</td>\n",
              "      <td>954577452</td>\n",
              "      <td>3542547</td>\n",
              "    </tr>\n",
              "    <tr>\n",
              "      <th>9</th>\n",
              "      <td>Denmark</td>\n",
              "      <td>229690</td>\n",
              "      <td>1.082420e+03</td>\n",
              "      <td>840172</td>\n",
              "      <td>2910</td>\n",
              "    </tr>\n",
              "    <tr>\n",
              "      <th>10</th>\n",
              "      <td>EIRE</td>\n",
              "      <td>193117</td>\n",
              "      <td>5.611824e+04</td>\n",
              "      <td>19014022</td>\n",
              "      <td>68321</td>\n",
              "    </tr>\n",
              "    <tr>\n",
              "      <th>24</th>\n",
              "      <td>Netherlands</td>\n",
              "      <td>183680</td>\n",
              "      <td>7.424490e+03</td>\n",
              "      <td>5487145</td>\n",
              "      <td>19815</td>\n",
              "    </tr>\n",
              "    <tr>\n",
              "      <th>12</th>\n",
              "      <td>France</td>\n",
              "      <td>163183</td>\n",
              "      <td>2.226968e+04</td>\n",
              "      <td>11119037</td>\n",
              "      <td>41222</td>\n",
              "    </tr>\n",
              "    <tr>\n",
              "      <th>13</th>\n",
              "      <td>Germany</td>\n",
              "      <td>108740</td>\n",
              "      <td>2.648711e+04</td>\n",
              "      <td>15398224</td>\n",
              "      <td>53344</td>\n",
              "    </tr>\n",
              "  </tbody>\n",
              "</table>\n",
              "</div>"
            ],
            "text/plain": [
              "           Country  Quantity         Price       year    month\n",
              "37  United Kingdom   4900418  1.987008e+06  954577452  3542547\n",
              "9          Denmark    229690  1.082420e+03     840172     2910\n",
              "10            EIRE    193117  5.611824e+04   19014022    68321\n",
              "24     Netherlands    183680  7.424490e+03    5487145    19815\n",
              "12          France    163183  2.226968e+04   11119037    41222\n",
              "13         Germany    108740  2.648711e+04   15398224    53344"
            ]
          },
          "metadata": {
            "tags": []
          },
          "execution_count": 13
        }
      ]
    },
    {
      "cell_type": "markdown",
      "metadata": {
        "id": "4-TTS82rPCeR"
      },
      "source": [
        "The top 5 selling countries are Denmark, Ireland, Netherlands, France and Germany."
      ]
    },
    {
      "cell_type": "code",
      "metadata": {
        "id": "zIr2kN4SPQY5",
        "colab": {
          "base_uri": "https://localhost:8080/",
          "height": 247
        },
        "outputId": "89c2de4b-5da6-46a8-8cb0-10f1587b227d"
      },
      "source": [
        "#Group by country and week\n",
        "countries = ['Denmark','EIRE','Netherlands','France','Germany']\n",
        "df_temp=df1[df1.Country.str.contains('|'.join(countries))]\n",
        "df_temp.groupby(['Country', pd.Grouper(key='InvoiceDate', freq='W-FRI')])['Quantity'].sum()"
      ],
      "execution_count": null,
      "outputs": [
        {
          "output_type": "execute_result",
          "data": {
            "text/plain": [
              "Country      InvoiceDate\n",
              "Denmark      2009-12-04       480\n",
              "             2009-12-18        94\n",
              "             2010-01-15       452\n",
              "             2010-01-22     63302\n",
              "             2010-02-19     93230\n",
              "                            ...  \n",
              "Netherlands  2010-11-05      6718\n",
              "             2010-11-12      1309\n",
              "             2010-11-19      6045\n",
              "             2010-11-26      1437\n",
              "             2010-12-03      6690\n",
              "Name: Quantity, Length: 227, dtype: int64"
            ]
          },
          "metadata": {
            "tags": []
          },
          "execution_count": 14
        }
      ]
    },
    {
      "cell_type": "code",
      "metadata": {
        "id": "luvVFxN6iwww",
        "colab": {
          "base_uri": "https://localhost:8080/",
          "height": 354
        },
        "outputId": "e6332f1a-37a9-4f11-8a82-33170475dc09"
      },
      "source": [
        "from datetime import datetime\n",
        "\n",
        "df_temp['InvoiceDate2'] = df_temp['InvoiceDate']\n",
        "df_temp['InvoiceDate2'] = df_temp['InvoiceDate2'].apply(lambda x: x.strftime('%Y-%m-%d'))\n",
        "df_temp.info()"
      ],
      "execution_count": null,
      "outputs": [
        {
          "output_type": "stream",
          "text": [
            "<class 'pandas.core.frame.DataFrame'>\n",
            "Int64Index: 25801 entries, 71 to 524491\n",
            "Data columns (total 12 columns):\n",
            " #   Column        Non-Null Count  Dtype         \n",
            "---  ------        --------------  -----         \n",
            " 0   Invoice       25801 non-null  object        \n",
            " 1   StockCode     25801 non-null  object        \n",
            " 2   Description   25801 non-null  object        \n",
            " 3   Quantity      25801 non-null  int64         \n",
            " 4   InvoiceDate   25801 non-null  datetime64[ns]\n",
            " 5   Price         25801 non-null  float64       \n",
            " 6   Customer ID   24786 non-null  object        \n",
            " 7   Country       25801 non-null  object        \n",
            " 8   year          25801 non-null  int64         \n",
            " 9   month         25801 non-null  int64         \n",
            " 10  yearmonth     25801 non-null  period[M]     \n",
            " 11  InvoiceDate2  25801 non-null  object        \n",
            "dtypes: datetime64[ns](1), float64(1), int64(3), object(6), period[M](1)\n",
            "memory usage: 2.6+ MB\n"
          ],
          "name": "stdout"
        }
      ]
    },
    {
      "cell_type": "code",
      "metadata": {
        "id": "L8PebFv9s_rc",
        "colab": {
          "base_uri": "https://localhost:8080/",
          "height": 406
        },
        "outputId": "55afd1e1-a46b-48aa-fec2-67dd9b6655f4"
      },
      "source": [
        "temp = df_temp.reset_index().set_index(pd.DatetimeIndex(df_temp['InvoiceDate'])).groupby(['Country',pd.Grouper(key='InvoiceDate', freq='W-FRI')])['Quantity'].sum().reset_index()\n",
        "temp"
      ],
      "execution_count": null,
      "outputs": [
        {
          "output_type": "execute_result",
          "data": {
            "text/html": [
              "<div>\n",
              "<style scoped>\n",
              "    .dataframe tbody tr th:only-of-type {\n",
              "        vertical-align: middle;\n",
              "    }\n",
              "\n",
              "    .dataframe tbody tr th {\n",
              "        vertical-align: top;\n",
              "    }\n",
              "\n",
              "    .dataframe thead th {\n",
              "        text-align: right;\n",
              "    }\n",
              "</style>\n",
              "<table border=\"1\" class=\"dataframe\">\n",
              "  <thead>\n",
              "    <tr style=\"text-align: right;\">\n",
              "      <th></th>\n",
              "      <th>Country</th>\n",
              "      <th>InvoiceDate</th>\n",
              "      <th>Quantity</th>\n",
              "    </tr>\n",
              "  </thead>\n",
              "  <tbody>\n",
              "    <tr>\n",
              "      <th>0</th>\n",
              "      <td>Denmark</td>\n",
              "      <td>2009-12-04</td>\n",
              "      <td>480</td>\n",
              "    </tr>\n",
              "    <tr>\n",
              "      <th>1</th>\n",
              "      <td>Denmark</td>\n",
              "      <td>2009-12-18</td>\n",
              "      <td>94</td>\n",
              "    </tr>\n",
              "    <tr>\n",
              "      <th>2</th>\n",
              "      <td>Denmark</td>\n",
              "      <td>2010-01-15</td>\n",
              "      <td>452</td>\n",
              "    </tr>\n",
              "    <tr>\n",
              "      <th>3</th>\n",
              "      <td>Denmark</td>\n",
              "      <td>2010-01-22</td>\n",
              "      <td>63302</td>\n",
              "    </tr>\n",
              "    <tr>\n",
              "      <th>4</th>\n",
              "      <td>Denmark</td>\n",
              "      <td>2010-02-19</td>\n",
              "      <td>93230</td>\n",
              "    </tr>\n",
              "    <tr>\n",
              "      <th>...</th>\n",
              "      <td>...</td>\n",
              "      <td>...</td>\n",
              "      <td>...</td>\n",
              "    </tr>\n",
              "    <tr>\n",
              "      <th>222</th>\n",
              "      <td>Netherlands</td>\n",
              "      <td>2010-11-05</td>\n",
              "      <td>6718</td>\n",
              "    </tr>\n",
              "    <tr>\n",
              "      <th>223</th>\n",
              "      <td>Netherlands</td>\n",
              "      <td>2010-11-12</td>\n",
              "      <td>1309</td>\n",
              "    </tr>\n",
              "    <tr>\n",
              "      <th>224</th>\n",
              "      <td>Netherlands</td>\n",
              "      <td>2010-11-19</td>\n",
              "      <td>6045</td>\n",
              "    </tr>\n",
              "    <tr>\n",
              "      <th>225</th>\n",
              "      <td>Netherlands</td>\n",
              "      <td>2010-11-26</td>\n",
              "      <td>1437</td>\n",
              "    </tr>\n",
              "    <tr>\n",
              "      <th>226</th>\n",
              "      <td>Netherlands</td>\n",
              "      <td>2010-12-03</td>\n",
              "      <td>6690</td>\n",
              "    </tr>\n",
              "  </tbody>\n",
              "</table>\n",
              "<p>227 rows × 3 columns</p>\n",
              "</div>"
            ],
            "text/plain": [
              "         Country InvoiceDate  Quantity\n",
              "0        Denmark  2009-12-04       480\n",
              "1        Denmark  2009-12-18        94\n",
              "2        Denmark  2010-01-15       452\n",
              "3        Denmark  2010-01-22     63302\n",
              "4        Denmark  2010-02-19     93230\n",
              "..           ...         ...       ...\n",
              "222  Netherlands  2010-11-05      6718\n",
              "223  Netherlands  2010-11-12      1309\n",
              "224  Netherlands  2010-11-19      6045\n",
              "225  Netherlands  2010-11-26      1437\n",
              "226  Netherlands  2010-12-03      6690\n",
              "\n",
              "[227 rows x 3 columns]"
            ]
          },
          "metadata": {
            "tags": []
          },
          "execution_count": 16
        }
      ]
    },
    {
      "cell_type": "code",
      "metadata": {
        "id": "f8XhG8Zptgno",
        "colab": {
          "base_uri": "https://localhost:8080/",
          "height": 616
        },
        "outputId": "723fc41c-ed23-4ceb-a2e1-751c887dade8"
      },
      "source": [
        "#Plot a single line plot with a line for each country\n",
        "\n",
        "import plotly.express as px  #An easy way to plot interactive figures\n",
        "fig = px.line(temp, x=temp['InvoiceDate'], y='Quantity',color='Country',line_group='Country',title='Weekly Sales in the Top 5 Countries',height=600)\n",
        "fig.show()"
      ],
      "execution_count": null,
      "outputs": [
        {
          "output_type": "display_data",
          "data": {
            "text/html": [
              "<html>\n",
              "<head><meta charset=\"utf-8\" /></head>\n",
              "<body>\n",
              "    <div>\n",
              "            <script src=\"https://cdnjs.cloudflare.com/ajax/libs/mathjax/2.7.5/MathJax.js?config=TeX-AMS-MML_SVG\"></script><script type=\"text/javascript\">if (window.MathJax) {MathJax.Hub.Config({SVG: {font: \"STIX-Web\"}});}</script>\n",
              "                <script type=\"text/javascript\">window.PlotlyConfig = {MathJaxConfig: 'local'};</script>\n",
              "        <script src=\"https://cdn.plot.ly/plotly-latest.min.js\"></script>    \n",
              "            <div id=\"3bb9d0eb-714f-4c23-b512-bce9289073f5\" class=\"plotly-graph-div\" style=\"height:600px; width:100%;\"></div>\n",
              "            <script type=\"text/javascript\">\n",
              "                \n",
              "                    window.PLOTLYENV=window.PLOTLYENV || {};\n",
              "                    \n",
              "                if (document.getElementById(\"3bb9d0eb-714f-4c23-b512-bce9289073f5\")) {\n",
              "                    Plotly.newPlot(\n",
              "                        '3bb9d0eb-714f-4c23-b512-bce9289073f5',\n",
              "                        [{\"hoverlabel\": {\"namelength\": 0}, \"hovertemplate\": \"Country=Denmark<br>InvoiceDate=%{x}<br>Quantity=%{y}\", \"legendgroup\": \"Country=Denmark\", \"line\": {\"color\": \"#636efa\", \"dash\": \"solid\"}, \"mode\": \"lines\", \"name\": \"Country=Denmark\", \"showlegend\": true, \"type\": \"scatter\", \"x\": [\"2009-12-04T00:00:00\", \"2009-12-18T00:00:00\", \"2010-01-15T00:00:00\", \"2010-01-22T00:00:00\", \"2010-02-19T00:00:00\", \"2010-03-12T00:00:00\", \"2010-03-19T00:00:00\", \"2010-04-23T00:00:00\", \"2010-06-11T00:00:00\", \"2010-06-18T00:00:00\", \"2010-07-09T00:00:00\", \"2010-08-13T00:00:00\", \"2010-08-20T00:00:00\", \"2010-09-03T00:00:00\", \"2010-09-24T00:00:00\", \"2010-10-01T00:00:00\", \"2010-10-15T00:00:00\", \"2010-10-29T00:00:00\", \"2010-11-05T00:00:00\", \"2010-11-12T00:00:00\", \"2010-12-10T00:00:00\"], \"xaxis\": \"x\", \"y\": [480, 94, 452, 63302, 93230, 328, 63974, 576, 750, 1137, 164, 371, 1067, 82, 583, 724, 164, 5, 725, 1028, 454], \"yaxis\": \"y\"}, {\"hoverlabel\": {\"namelength\": 0}, \"hovertemplate\": \"Country=EIRE<br>InvoiceDate=%{x}<br>Quantity=%{y}\", \"legendgroup\": \"Country=EIRE\", \"line\": {\"color\": \"#EF553B\", \"dash\": \"solid\"}, \"mode\": \"lines\", \"name\": \"Country=EIRE\", \"showlegend\": true, \"type\": \"scatter\", \"x\": [\"2009-12-04T00:00:00\", \"2009-12-11T00:00:00\", \"2009-12-18T00:00:00\", \"2009-12-25T00:00:00\", \"2010-01-08T00:00:00\", \"2010-01-15T00:00:00\", \"2010-01-22T00:00:00\", \"2010-01-29T00:00:00\", \"2010-02-05T00:00:00\", \"2010-02-12T00:00:00\", \"2010-02-19T00:00:00\", \"2010-02-26T00:00:00\", \"2010-03-05T00:00:00\", \"2010-03-12T00:00:00\", \"2010-03-19T00:00:00\", \"2010-03-26T00:00:00\", \"2010-04-02T00:00:00\", \"2010-04-09T00:00:00\", \"2010-04-16T00:00:00\", \"2010-04-23T00:00:00\", \"2010-04-30T00:00:00\", \"2010-05-07T00:00:00\", \"2010-05-14T00:00:00\", \"2010-05-21T00:00:00\", \"2010-05-28T00:00:00\", \"2010-06-04T00:00:00\", \"2010-06-11T00:00:00\", \"2010-06-18T00:00:00\", \"2010-06-25T00:00:00\", \"2010-07-02T00:00:00\", \"2010-07-09T00:00:00\", \"2010-07-16T00:00:00\", \"2010-07-23T00:00:00\", \"2010-07-30T00:00:00\", \"2010-08-06T00:00:00\", \"2010-08-13T00:00:00\", \"2010-08-20T00:00:00\", \"2010-08-27T00:00:00\", \"2010-09-03T00:00:00\", \"2010-09-10T00:00:00\", \"2010-09-17T00:00:00\", \"2010-09-24T00:00:00\", \"2010-10-01T00:00:00\", \"2010-10-08T00:00:00\", \"2010-10-15T00:00:00\", \"2010-10-22T00:00:00\", \"2010-10-29T00:00:00\", \"2010-11-05T00:00:00\", \"2010-11-12T00:00:00\", \"2010-11-19T00:00:00\", \"2010-11-26T00:00:00\", \"2010-12-03T00:00:00\", \"2010-12-10T00:00:00\"], \"xaxis\": \"x\", \"y\": [940, 1102, 2860, 4512, 26352, 151, 2922, 834, 1869, 5244, 2541, 2527, 9782, 665, 1978, 1765, 607, 204, 7609, 3145, 2835, 3440, 4295, 1005, 1014, 853, 858, 8065, 2003, 1072, 10184, 3448, 549, 689, 992, 1309, 11335, 1584, 930, 1871, 6298, 3317, 8292, 6672, 2681, 4880, 5820, 4142, 2938, 7014, 1067, 3155, 901], \"yaxis\": \"y\"}, {\"hoverlabel\": {\"namelength\": 0}, \"hovertemplate\": \"Country=France<br>InvoiceDate=%{x}<br>Quantity=%{y}\", \"legendgroup\": \"Country=France\", \"line\": {\"color\": \"#00cc96\", \"dash\": \"solid\"}, \"mode\": \"lines\", \"name\": \"Country=France\", \"showlegend\": true, \"type\": \"scatter\", \"x\": [\"2009-12-04T00:00:00\", \"2009-12-11T00:00:00\", \"2009-12-18T00:00:00\", \"2009-12-25T00:00:00\", \"2010-01-08T00:00:00\", \"2010-01-15T00:00:00\", \"2010-01-22T00:00:00\", \"2010-01-29T00:00:00\", \"2010-02-05T00:00:00\", \"2010-02-12T00:00:00\", \"2010-02-26T00:00:00\", \"2010-03-05T00:00:00\", \"2010-03-12T00:00:00\", \"2010-03-19T00:00:00\", \"2010-03-26T00:00:00\", \"2010-04-02T00:00:00\", \"2010-04-09T00:00:00\", \"2010-04-16T00:00:00\", \"2010-04-23T00:00:00\", \"2010-04-30T00:00:00\", \"2010-05-07T00:00:00\", \"2010-05-14T00:00:00\", \"2010-05-21T00:00:00\", \"2010-05-28T00:00:00\", \"2010-06-04T00:00:00\", \"2010-06-11T00:00:00\", \"2010-06-18T00:00:00\", \"2010-06-25T00:00:00\", \"2010-07-02T00:00:00\", \"2010-07-09T00:00:00\", \"2010-07-16T00:00:00\", \"2010-07-23T00:00:00\", \"2010-07-30T00:00:00\", \"2010-08-06T00:00:00\", \"2010-08-13T00:00:00\", \"2010-08-20T00:00:00\", \"2010-08-27T00:00:00\", \"2010-09-03T00:00:00\", \"2010-09-10T00:00:00\", \"2010-09-17T00:00:00\", \"2010-09-24T00:00:00\", \"2010-10-01T00:00:00\", \"2010-10-08T00:00:00\", \"2010-10-15T00:00:00\", \"2010-10-22T00:00:00\", \"2010-10-29T00:00:00\", \"2010-11-05T00:00:00\", \"2010-11-12T00:00:00\", \"2010-11-19T00:00:00\", \"2010-11-26T00:00:00\", \"2010-12-03T00:00:00\", \"2010-12-10T00:00:00\"], \"xaxis\": \"x\", \"y\": [1241, 588, 1038, 821, 3595, 344, 645, 425, 614, 3842, 844, 1769, 641, 1274, 869, 404, 1407, 698, 632, 1015, 6072, 1298, 799, 772, 929, 1379, 1696, 644, 1219, 1061, 614, 1144, 1161, 98, 87547, 282, 1836, 1751, 2574, 649, 1748, 389, 1382, 6682, 1154, 705, 497, 2205, 5169, 3155, 1365, 2501], \"yaxis\": \"y\"}, {\"hoverlabel\": {\"namelength\": 0}, \"hovertemplate\": \"Country=Germany<br>InvoiceDate=%{x}<br>Quantity=%{y}\", \"legendgroup\": \"Country=Germany\", \"line\": {\"color\": \"#ab63fa\", \"dash\": \"solid\"}, \"mode\": \"lines\", \"name\": \"Country=Germany\", \"showlegend\": true, \"type\": \"scatter\", \"x\": [\"2009-12-04T00:00:00\", \"2009-12-11T00:00:00\", \"2009-12-18T00:00:00\", \"2009-12-25T00:00:00\", \"2010-01-08T00:00:00\", \"2010-01-15T00:00:00\", \"2010-01-22T00:00:00\", \"2010-01-29T00:00:00\", \"2010-02-05T00:00:00\", \"2010-02-12T00:00:00\", \"2010-02-19T00:00:00\", \"2010-02-26T00:00:00\", \"2010-03-05T00:00:00\", \"2010-03-12T00:00:00\", \"2010-03-19T00:00:00\", \"2010-03-26T00:00:00\", \"2010-04-02T00:00:00\", \"2010-04-09T00:00:00\", \"2010-04-16T00:00:00\", \"2010-04-23T00:00:00\", \"2010-04-30T00:00:00\", \"2010-05-07T00:00:00\", \"2010-05-14T00:00:00\", \"2010-05-21T00:00:00\", \"2010-05-28T00:00:00\", \"2010-06-04T00:00:00\", \"2010-06-11T00:00:00\", \"2010-06-18T00:00:00\", \"2010-06-25T00:00:00\", \"2010-07-02T00:00:00\", \"2010-07-09T00:00:00\", \"2010-07-16T00:00:00\", \"2010-07-23T00:00:00\", \"2010-07-30T00:00:00\", \"2010-08-06T00:00:00\", \"2010-08-13T00:00:00\", \"2010-08-20T00:00:00\", \"2010-08-27T00:00:00\", \"2010-09-03T00:00:00\", \"2010-09-10T00:00:00\", \"2010-09-17T00:00:00\", \"2010-09-24T00:00:00\", \"2010-10-01T00:00:00\", \"2010-10-08T00:00:00\", \"2010-10-15T00:00:00\", \"2010-10-22T00:00:00\", \"2010-10-29T00:00:00\", \"2010-11-05T00:00:00\", \"2010-11-12T00:00:00\", \"2010-11-19T00:00:00\", \"2010-11-26T00:00:00\", \"2010-12-03T00:00:00\", \"2010-12-10T00:00:00\"], \"xaxis\": \"x\", \"y\": [484, 1346, 2474, 524, 104, 2190, 1267, 1958, 1635, 2893, 428, 311, 1700, 2167, 2685, 2655, 1375, 1855, 4633, 3358, 1337, 1205, 689, 1304, 1048, 551, 2937, 2543, 1677, 4529, 3303, 2917, 2956, 1013, 1709, 170, 1728, 1425, 933, 2118, 3254, 871, 2508, 3465, 1873, 2787, 3333, 6913, 2481, 1964, 1790, 3226, 2141], \"yaxis\": \"y\"}, {\"hoverlabel\": {\"namelength\": 0}, \"hovertemplate\": \"Country=Netherlands<br>InvoiceDate=%{x}<br>Quantity=%{y}\", \"legendgroup\": \"Country=Netherlands\", \"line\": {\"color\": \"#FFA15A\", \"dash\": \"solid\"}, \"mode\": \"lines\", \"name\": \"Country=Netherlands\", \"showlegend\": true, \"type\": \"scatter\", \"x\": [\"2009-12-04T00:00:00\", \"2009-12-11T00:00:00\", \"2009-12-18T00:00:00\", \"2010-01-15T00:00:00\", \"2010-01-22T00:00:00\", \"2010-01-29T00:00:00\", \"2010-02-05T00:00:00\", \"2010-02-19T00:00:00\", \"2010-02-26T00:00:00\", \"2010-03-05T00:00:00\", \"2010-03-12T00:00:00\", \"2010-03-19T00:00:00\", \"2010-03-26T00:00:00\", \"2010-04-02T00:00:00\", \"2010-04-09T00:00:00\", \"2010-04-16T00:00:00\", \"2010-04-23T00:00:00\", \"2010-04-30T00:00:00\", \"2010-05-07T00:00:00\", \"2010-05-14T00:00:00\", \"2010-05-21T00:00:00\", \"2010-05-28T00:00:00\", \"2010-06-04T00:00:00\", \"2010-06-18T00:00:00\", \"2010-06-25T00:00:00\", \"2010-07-02T00:00:00\", \"2010-07-09T00:00:00\", \"2010-07-16T00:00:00\", \"2010-07-23T00:00:00\", \"2010-07-30T00:00:00\", \"2010-08-06T00:00:00\", \"2010-08-13T00:00:00\", \"2010-08-20T00:00:00\", \"2010-08-27T00:00:00\", \"2010-09-03T00:00:00\", \"2010-09-10T00:00:00\", \"2010-09-17T00:00:00\", \"2010-09-24T00:00:00\", \"2010-10-01T00:00:00\", \"2010-10-08T00:00:00\", \"2010-10-15T00:00:00\", \"2010-10-22T00:00:00\", \"2010-10-29T00:00:00\", \"2010-11-05T00:00:00\", \"2010-11-12T00:00:00\", \"2010-11-19T00:00:00\", \"2010-11-26T00:00:00\", \"2010-12-03T00:00:00\"], \"xaxis\": \"x\", \"y\": [4073, 51, 6698, 391, 7308, 12832, 88, 8620, 1175, 1782, 6673, 1524, 6683, 2474, 472, 468, 679, 851, 11857, 547, 1234, 1272, 3708, 2763, 53, 9382, 317, 65, 2351, 532, 265, 11922, 4394, 916, 9035, 632, 3073, 16088, 3739, 844, 13168, 249, 233, 6718, 1309, 6045, 1437, 6690], \"yaxis\": \"y\"}],\n",
              "                        {\"height\": 600, \"legend\": {\"tracegroupgap\": 0}, \"template\": {\"data\": {\"bar\": [{\"error_x\": {\"color\": \"#2a3f5f\"}, \"error_y\": {\"color\": \"#2a3f5f\"}, \"marker\": {\"line\": {\"color\": \"#E5ECF6\", \"width\": 0.5}}, \"type\": \"bar\"}], \"barpolar\": [{\"marker\": {\"line\": {\"color\": \"#E5ECF6\", \"width\": 0.5}}, \"type\": \"barpolar\"}], \"carpet\": [{\"aaxis\": {\"endlinecolor\": \"#2a3f5f\", \"gridcolor\": \"white\", \"linecolor\": \"white\", \"minorgridcolor\": \"white\", \"startlinecolor\": \"#2a3f5f\"}, \"baxis\": {\"endlinecolor\": \"#2a3f5f\", \"gridcolor\": \"white\", \"linecolor\": \"white\", \"minorgridcolor\": \"white\", \"startlinecolor\": \"#2a3f5f\"}, \"type\": \"carpet\"}], \"choropleth\": [{\"colorbar\": {\"outlinewidth\": 0, \"ticks\": \"\"}, \"type\": \"choropleth\"}], \"contour\": [{\"colorbar\": {\"outlinewidth\": 0, \"ticks\": \"\"}, \"colorscale\": [[0.0, \"#0d0887\"], [0.1111111111111111, \"#46039f\"], [0.2222222222222222, \"#7201a8\"], [0.3333333333333333, \"#9c179e\"], [0.4444444444444444, \"#bd3786\"], [0.5555555555555556, \"#d8576b\"], [0.6666666666666666, \"#ed7953\"], [0.7777777777777778, \"#fb9f3a\"], [0.8888888888888888, \"#fdca26\"], [1.0, \"#f0f921\"]], \"type\": \"contour\"}], \"contourcarpet\": [{\"colorbar\": {\"outlinewidth\": 0, \"ticks\": \"\"}, \"type\": \"contourcarpet\"}], \"heatmap\": [{\"colorbar\": {\"outlinewidth\": 0, \"ticks\": \"\"}, \"colorscale\": [[0.0, \"#0d0887\"], [0.1111111111111111, \"#46039f\"], [0.2222222222222222, \"#7201a8\"], [0.3333333333333333, \"#9c179e\"], [0.4444444444444444, \"#bd3786\"], [0.5555555555555556, \"#d8576b\"], [0.6666666666666666, \"#ed7953\"], [0.7777777777777778, \"#fb9f3a\"], [0.8888888888888888, \"#fdca26\"], [1.0, \"#f0f921\"]], \"type\": \"heatmap\"}], \"heatmapgl\": [{\"colorbar\": {\"outlinewidth\": 0, \"ticks\": \"\"}, \"colorscale\": [[0.0, \"#0d0887\"], [0.1111111111111111, \"#46039f\"], [0.2222222222222222, \"#7201a8\"], [0.3333333333333333, \"#9c179e\"], [0.4444444444444444, \"#bd3786\"], [0.5555555555555556, \"#d8576b\"], [0.6666666666666666, \"#ed7953\"], [0.7777777777777778, \"#fb9f3a\"], [0.8888888888888888, \"#fdca26\"], [1.0, \"#f0f921\"]], \"type\": \"heatmapgl\"}], \"histogram\": [{\"marker\": {\"colorbar\": {\"outlinewidth\": 0, \"ticks\": \"\"}}, \"type\": \"histogram\"}], \"histogram2d\": [{\"colorbar\": {\"outlinewidth\": 0, \"ticks\": \"\"}, \"colorscale\": [[0.0, \"#0d0887\"], [0.1111111111111111, \"#46039f\"], [0.2222222222222222, \"#7201a8\"], [0.3333333333333333, \"#9c179e\"], [0.4444444444444444, \"#bd3786\"], [0.5555555555555556, \"#d8576b\"], [0.6666666666666666, \"#ed7953\"], [0.7777777777777778, \"#fb9f3a\"], [0.8888888888888888, \"#fdca26\"], [1.0, \"#f0f921\"]], \"type\": \"histogram2d\"}], \"histogram2dcontour\": [{\"colorbar\": {\"outlinewidth\": 0, \"ticks\": \"\"}, \"colorscale\": [[0.0, \"#0d0887\"], [0.1111111111111111, \"#46039f\"], [0.2222222222222222, \"#7201a8\"], [0.3333333333333333, \"#9c179e\"], [0.4444444444444444, \"#bd3786\"], [0.5555555555555556, \"#d8576b\"], [0.6666666666666666, \"#ed7953\"], [0.7777777777777778, \"#fb9f3a\"], [0.8888888888888888, \"#fdca26\"], [1.0, \"#f0f921\"]], \"type\": \"histogram2dcontour\"}], \"mesh3d\": [{\"colorbar\": {\"outlinewidth\": 0, \"ticks\": \"\"}, \"type\": \"mesh3d\"}], \"parcoords\": [{\"line\": {\"colorbar\": {\"outlinewidth\": 0, \"ticks\": \"\"}}, \"type\": \"parcoords\"}], \"pie\": [{\"automargin\": true, \"type\": \"pie\"}], \"scatter\": [{\"marker\": {\"colorbar\": {\"outlinewidth\": 0, \"ticks\": \"\"}}, \"type\": \"scatter\"}], \"scatter3d\": [{\"line\": {\"colorbar\": {\"outlinewidth\": 0, \"ticks\": \"\"}}, \"marker\": {\"colorbar\": {\"outlinewidth\": 0, \"ticks\": \"\"}}, \"type\": \"scatter3d\"}], \"scattercarpet\": [{\"marker\": {\"colorbar\": {\"outlinewidth\": 0, \"ticks\": \"\"}}, \"type\": \"scattercarpet\"}], \"scattergeo\": [{\"marker\": {\"colorbar\": {\"outlinewidth\": 0, \"ticks\": \"\"}}, \"type\": \"scattergeo\"}], \"scattergl\": [{\"marker\": {\"colorbar\": {\"outlinewidth\": 0, \"ticks\": \"\"}}, \"type\": \"scattergl\"}], \"scattermapbox\": [{\"marker\": {\"colorbar\": {\"outlinewidth\": 0, \"ticks\": \"\"}}, \"type\": \"scattermapbox\"}], \"scatterpolar\": [{\"marker\": {\"colorbar\": {\"outlinewidth\": 0, \"ticks\": \"\"}}, \"type\": \"scatterpolar\"}], \"scatterpolargl\": [{\"marker\": {\"colorbar\": {\"outlinewidth\": 0, \"ticks\": \"\"}}, \"type\": \"scatterpolargl\"}], \"scatterternary\": [{\"marker\": {\"colorbar\": {\"outlinewidth\": 0, \"ticks\": \"\"}}, \"type\": \"scatterternary\"}], \"surface\": [{\"colorbar\": {\"outlinewidth\": 0, \"ticks\": \"\"}, \"colorscale\": [[0.0, \"#0d0887\"], [0.1111111111111111, \"#46039f\"], [0.2222222222222222, \"#7201a8\"], [0.3333333333333333, \"#9c179e\"], [0.4444444444444444, \"#bd3786\"], [0.5555555555555556, \"#d8576b\"], [0.6666666666666666, \"#ed7953\"], [0.7777777777777778, \"#fb9f3a\"], [0.8888888888888888, \"#fdca26\"], [1.0, \"#f0f921\"]], \"type\": \"surface\"}], \"table\": [{\"cells\": {\"fill\": {\"color\": \"#EBF0F8\"}, \"line\": {\"color\": \"white\"}}, \"header\": {\"fill\": {\"color\": \"#C8D4E3\"}, \"line\": {\"color\": \"white\"}}, \"type\": \"table\"}]}, \"layout\": {\"annotationdefaults\": {\"arrowcolor\": \"#2a3f5f\", \"arrowhead\": 0, \"arrowwidth\": 1}, \"coloraxis\": {\"colorbar\": {\"outlinewidth\": 0, \"ticks\": \"\"}}, \"colorscale\": {\"diverging\": [[0, \"#8e0152\"], [0.1, \"#c51b7d\"], [0.2, \"#de77ae\"], [0.3, \"#f1b6da\"], [0.4, \"#fde0ef\"], [0.5, \"#f7f7f7\"], [0.6, \"#e6f5d0\"], [0.7, \"#b8e186\"], [0.8, \"#7fbc41\"], [0.9, \"#4d9221\"], [1, \"#276419\"]], \"sequential\": [[0.0, \"#0d0887\"], [0.1111111111111111, \"#46039f\"], [0.2222222222222222, \"#7201a8\"], [0.3333333333333333, \"#9c179e\"], [0.4444444444444444, \"#bd3786\"], [0.5555555555555556, \"#d8576b\"], [0.6666666666666666, \"#ed7953\"], [0.7777777777777778, \"#fb9f3a\"], [0.8888888888888888, \"#fdca26\"], [1.0, \"#f0f921\"]], \"sequentialminus\": [[0.0, \"#0d0887\"], [0.1111111111111111, \"#46039f\"], [0.2222222222222222, \"#7201a8\"], [0.3333333333333333, \"#9c179e\"], [0.4444444444444444, \"#bd3786\"], [0.5555555555555556, \"#d8576b\"], [0.6666666666666666, \"#ed7953\"], [0.7777777777777778, \"#fb9f3a\"], [0.8888888888888888, \"#fdca26\"], [1.0, \"#f0f921\"]]}, \"colorway\": [\"#636efa\", \"#EF553B\", \"#00cc96\", \"#ab63fa\", \"#FFA15A\", \"#19d3f3\", \"#FF6692\", \"#B6E880\", \"#FF97FF\", \"#FECB52\"], \"font\": {\"color\": \"#2a3f5f\"}, \"geo\": {\"bgcolor\": \"white\", \"lakecolor\": \"white\", \"landcolor\": \"#E5ECF6\", \"showlakes\": true, \"showland\": true, \"subunitcolor\": \"white\"}, \"hoverlabel\": {\"align\": \"left\"}, \"hovermode\": \"closest\", \"mapbox\": {\"style\": \"light\"}, \"paper_bgcolor\": \"white\", \"plot_bgcolor\": \"#E5ECF6\", \"polar\": {\"angularaxis\": {\"gridcolor\": \"white\", \"linecolor\": \"white\", \"ticks\": \"\"}, \"bgcolor\": \"#E5ECF6\", \"radialaxis\": {\"gridcolor\": \"white\", \"linecolor\": \"white\", \"ticks\": \"\"}}, \"scene\": {\"xaxis\": {\"backgroundcolor\": \"#E5ECF6\", \"gridcolor\": \"white\", \"gridwidth\": 2, \"linecolor\": \"white\", \"showbackground\": true, \"ticks\": \"\", \"zerolinecolor\": \"white\"}, \"yaxis\": {\"backgroundcolor\": \"#E5ECF6\", \"gridcolor\": \"white\", \"gridwidth\": 2, \"linecolor\": \"white\", \"showbackground\": true, \"ticks\": \"\", \"zerolinecolor\": \"white\"}, \"zaxis\": {\"backgroundcolor\": \"#E5ECF6\", \"gridcolor\": \"white\", \"gridwidth\": 2, \"linecolor\": \"white\", \"showbackground\": true, \"ticks\": \"\", \"zerolinecolor\": \"white\"}}, \"shapedefaults\": {\"line\": {\"color\": \"#2a3f5f\"}}, \"ternary\": {\"aaxis\": {\"gridcolor\": \"white\", \"linecolor\": \"white\", \"ticks\": \"\"}, \"baxis\": {\"gridcolor\": \"white\", \"linecolor\": \"white\", \"ticks\": \"\"}, \"bgcolor\": \"#E5ECF6\", \"caxis\": {\"gridcolor\": \"white\", \"linecolor\": \"white\", \"ticks\": \"\"}}, \"title\": {\"x\": 0.05}, \"xaxis\": {\"automargin\": true, \"gridcolor\": \"white\", \"linecolor\": \"white\", \"ticks\": \"\", \"title\": {\"standoff\": 15}, \"zerolinecolor\": \"white\", \"zerolinewidth\": 2}, \"yaxis\": {\"automargin\": true, \"gridcolor\": \"white\", \"linecolor\": \"white\", \"ticks\": \"\", \"title\": {\"standoff\": 15}, \"zerolinecolor\": \"white\", \"zerolinewidth\": 2}}}, \"title\": {\"text\": \"Weekly Sales in the Top 5 Countries\"}, \"xaxis\": {\"anchor\": \"y\", \"domain\": [0.0, 1.0], \"title\": {\"text\": \"InvoiceDate\"}}, \"yaxis\": {\"anchor\": \"x\", \"domain\": [0.0, 1.0], \"title\": {\"text\": \"Quantity\"}}},\n",
              "                        {\"responsive\": true}\n",
              "                    ).then(function(){\n",
              "                            \n",
              "var gd = document.getElementById('3bb9d0eb-714f-4c23-b512-bce9289073f5');\n",
              "var x = new MutationObserver(function (mutations, observer) {{\n",
              "        var display = window.getComputedStyle(gd).display;\n",
              "        if (!display || display === 'none') {{\n",
              "            console.log([gd, 'removed!']);\n",
              "            Plotly.purge(gd);\n",
              "            observer.disconnect();\n",
              "        }}\n",
              "}});\n",
              "\n",
              "// Listen for the removal of the full notebook cells\n",
              "var notebookContainer = gd.closest('#notebook-container');\n",
              "if (notebookContainer) {{\n",
              "    x.observe(notebookContainer, {childList: true});\n",
              "}}\n",
              "\n",
              "// Listen for the clearing of the current output cell\n",
              "var outputEl = gd.closest('.output');\n",
              "if (outputEl) {{\n",
              "    x.observe(outputEl, {childList: true});\n",
              "}}\n",
              "\n",
              "                        })\n",
              "                };\n",
              "                \n",
              "            </script>\n",
              "        </div>\n",
              "</body>\n",
              "</html>"
            ]
          },
          "metadata": {
            "tags": []
          }
        }
      ]
    },
    {
      "cell_type": "code",
      "metadata": {
        "id": "oYXxmP262EdI",
        "colab": {
          "base_uri": "https://localhost:8080/",
          "height": 406
        },
        "outputId": "cab40809-48c3-49b9-a0c1-a065c65d023d"
      },
      "source": [
        "temp2 = temp.sort_values(by='Quantity',ascending=False).reset_index(drop=True)\n",
        "temp2"
      ],
      "execution_count": null,
      "outputs": [
        {
          "output_type": "execute_result",
          "data": {
            "text/html": [
              "<div>\n",
              "<style scoped>\n",
              "    .dataframe tbody tr th:only-of-type {\n",
              "        vertical-align: middle;\n",
              "    }\n",
              "\n",
              "    .dataframe tbody tr th {\n",
              "        vertical-align: top;\n",
              "    }\n",
              "\n",
              "    .dataframe thead th {\n",
              "        text-align: right;\n",
              "    }\n",
              "</style>\n",
              "<table border=\"1\" class=\"dataframe\">\n",
              "  <thead>\n",
              "    <tr style=\"text-align: right;\">\n",
              "      <th></th>\n",
              "      <th>Country</th>\n",
              "      <th>InvoiceDate</th>\n",
              "      <th>Quantity</th>\n",
              "    </tr>\n",
              "  </thead>\n",
              "  <tbody>\n",
              "    <tr>\n",
              "      <th>0</th>\n",
              "      <td>Denmark</td>\n",
              "      <td>2010-02-19</td>\n",
              "      <td>93230</td>\n",
              "    </tr>\n",
              "    <tr>\n",
              "      <th>1</th>\n",
              "      <td>France</td>\n",
              "      <td>2010-08-13</td>\n",
              "      <td>87547</td>\n",
              "    </tr>\n",
              "    <tr>\n",
              "      <th>2</th>\n",
              "      <td>Denmark</td>\n",
              "      <td>2010-03-19</td>\n",
              "      <td>63974</td>\n",
              "    </tr>\n",
              "    <tr>\n",
              "      <th>3</th>\n",
              "      <td>Denmark</td>\n",
              "      <td>2010-01-22</td>\n",
              "      <td>63302</td>\n",
              "    </tr>\n",
              "    <tr>\n",
              "      <th>4</th>\n",
              "      <td>EIRE</td>\n",
              "      <td>2010-01-08</td>\n",
              "      <td>26352</td>\n",
              "    </tr>\n",
              "    <tr>\n",
              "      <th>...</th>\n",
              "      <td>...</td>\n",
              "      <td>...</td>\n",
              "      <td>...</td>\n",
              "    </tr>\n",
              "    <tr>\n",
              "      <th>222</th>\n",
              "      <td>Denmark</td>\n",
              "      <td>2010-09-03</td>\n",
              "      <td>82</td>\n",
              "    </tr>\n",
              "    <tr>\n",
              "      <th>223</th>\n",
              "      <td>Netherlands</td>\n",
              "      <td>2010-07-16</td>\n",
              "      <td>65</td>\n",
              "    </tr>\n",
              "    <tr>\n",
              "      <th>224</th>\n",
              "      <td>Netherlands</td>\n",
              "      <td>2010-06-25</td>\n",
              "      <td>53</td>\n",
              "    </tr>\n",
              "    <tr>\n",
              "      <th>225</th>\n",
              "      <td>Netherlands</td>\n",
              "      <td>2009-12-11</td>\n",
              "      <td>51</td>\n",
              "    </tr>\n",
              "    <tr>\n",
              "      <th>226</th>\n",
              "      <td>Denmark</td>\n",
              "      <td>2010-10-29</td>\n",
              "      <td>5</td>\n",
              "    </tr>\n",
              "  </tbody>\n",
              "</table>\n",
              "<p>227 rows × 3 columns</p>\n",
              "</div>"
            ],
            "text/plain": [
              "         Country InvoiceDate  Quantity\n",
              "0        Denmark  2010-02-19     93230\n",
              "1         France  2010-08-13     87547\n",
              "2        Denmark  2010-03-19     63974\n",
              "3        Denmark  2010-01-22     63302\n",
              "4           EIRE  2010-01-08     26352\n",
              "..           ...         ...       ...\n",
              "222      Denmark  2010-09-03        82\n",
              "223  Netherlands  2010-07-16        65\n",
              "224  Netherlands  2010-06-25        53\n",
              "225  Netherlands  2009-12-11        51\n",
              "226      Denmark  2010-10-29         5\n",
              "\n",
              "[227 rows x 3 columns]"
            ]
          },
          "metadata": {
            "tags": []
          },
          "execution_count": 18
        }
      ]
    },
    {
      "cell_type": "code",
      "metadata": {
        "id": "XxWDEM_T2B2I",
        "colab": {
          "base_uri": "https://localhost:8080/",
          "height": 416
        },
        "outputId": "6a05bf4e-55d8-4209-ba3f-37fcd72fa7d4"
      },
      "source": [
        "#Plot the number of orders per week for the 5 countries (excluding United Kingdom) with the highest number of orders in the 2009-2010 data period.\n",
        "\n",
        "fig2 = px.bar(temp2, y='Quantity',\n",
        "             facet_col='Country',\n",
        "            category_orders={'Country':['Denmark','EIRE','Netherlands','France','Germany']},\n",
        "             height=400)\n",
        "fig2.show()\n"
      ],
      "execution_count": null,
      "outputs": [
        {
          "output_type": "display_data",
          "data": {
            "text/html": [
              "<html>\n",
              "<head><meta charset=\"utf-8\" /></head>\n",
              "<body>\n",
              "    <div>\n",
              "            <script src=\"https://cdnjs.cloudflare.com/ajax/libs/mathjax/2.7.5/MathJax.js?config=TeX-AMS-MML_SVG\"></script><script type=\"text/javascript\">if (window.MathJax) {MathJax.Hub.Config({SVG: {font: \"STIX-Web\"}});}</script>\n",
              "                <script type=\"text/javascript\">window.PlotlyConfig = {MathJaxConfig: 'local'};</script>\n",
              "        <script src=\"https://cdn.plot.ly/plotly-latest.min.js\"></script>    \n",
              "            <div id=\"0b990939-28ea-477f-bc5e-5325e8eb1789\" class=\"plotly-graph-div\" style=\"height:400px; width:100%;\"></div>\n",
              "            <script type=\"text/javascript\">\n",
              "                \n",
              "                    window.PLOTLYENV=window.PLOTLYENV || {};\n",
              "                    \n",
              "                if (document.getElementById(\"0b990939-28ea-477f-bc5e-5325e8eb1789\")) {\n",
              "                    Plotly.newPlot(\n",
              "                        '0b990939-28ea-477f-bc5e-5325e8eb1789',\n",
              "                        [{\"alignmentgroup\": \"True\", \"hoverlabel\": {\"namelength\": 0}, \"hovertemplate\": \"Country=Denmark<br>Quantity=%{y}\", \"legendgroup\": \"\", \"marker\": {\"color\": \"#636efa\"}, \"name\": \"\", \"offsetgroup\": \"\", \"orientation\": \"v\", \"showlegend\": false, \"textposition\": \"auto\", \"type\": \"bar\", \"xaxis\": \"x\", \"y\": [93230, 63974, 63302, 1137, 1067, 1028, 750, 725, 724, 583, 576, 480, 454, 452, 371, 328, 164, 164, 94, 82, 5], \"yaxis\": \"y\"}, {\"alignmentgroup\": \"True\", \"hoverlabel\": {\"namelength\": 0}, \"hovertemplate\": \"Country=EIRE<br>Quantity=%{y}\", \"legendgroup\": \"\", \"marker\": {\"color\": \"#636efa\"}, \"name\": \"\", \"offsetgroup\": \"\", \"orientation\": \"v\", \"showlegend\": false, \"textposition\": \"auto\", \"type\": \"bar\", \"xaxis\": \"x2\", \"y\": [26352, 11335, 10184, 9782, 8292, 8065, 7609, 7014, 6672, 6298, 5820, 5244, 4880, 4512, 4295, 4142, 3448, 3440, 3317, 3155, 3145, 2938, 2922, 2860, 2835, 2681, 2541, 2527, 2003, 1978, 1871, 1869, 1765, 1584, 1309, 1102, 1072, 1067, 1014, 1005, 992, 940, 930, 901, 858, 853, 834, 689, 665, 607, 549, 204, 151], \"yaxis\": \"y2\"}, {\"alignmentgroup\": \"True\", \"hoverlabel\": {\"namelength\": 0}, \"hovertemplate\": \"Country=Netherlands<br>Quantity=%{y}\", \"legendgroup\": \"\", \"marker\": {\"color\": \"#636efa\"}, \"name\": \"\", \"offsetgroup\": \"\", \"orientation\": \"v\", \"showlegend\": false, \"textposition\": \"auto\", \"type\": \"bar\", \"xaxis\": \"x3\", \"y\": [16088, 13168, 12832, 11922, 11857, 9382, 9035, 8620, 7308, 6718, 6698, 6690, 6683, 6673, 6045, 4394, 4073, 3739, 3708, 3073, 2763, 2474, 2351, 1782, 1524, 1437, 1309, 1272, 1234, 1175, 916, 851, 844, 679, 632, 547, 532, 472, 468, 391, 317, 265, 249, 233, 88, 65, 53, 51], \"yaxis\": \"y3\"}, {\"alignmentgroup\": \"True\", \"hoverlabel\": {\"namelength\": 0}, \"hovertemplate\": \"Country=France<br>Quantity=%{y}\", \"legendgroup\": \"\", \"marker\": {\"color\": \"#636efa\"}, \"name\": \"\", \"offsetgroup\": \"\", \"orientation\": \"v\", \"showlegend\": false, \"textposition\": \"auto\", \"type\": \"bar\", \"xaxis\": \"x4\", \"y\": [87547, 6682, 6072, 5169, 3842, 3595, 3155, 2574, 2501, 2205, 1836, 1769, 1751, 1748, 1696, 1407, 1382, 1379, 1365, 1298, 1274, 1241, 1219, 1161, 1154, 1144, 1061, 1038, 1015, 929, 869, 844, 821, 799, 772, 705, 698, 649, 645, 644, 641, 632, 614, 614, 588, 497, 425, 404, 389, 344, 282, 98], \"yaxis\": \"y4\"}, {\"alignmentgroup\": \"True\", \"hoverlabel\": {\"namelength\": 0}, \"hovertemplate\": \"Country=Germany<br>Quantity=%{y}\", \"legendgroup\": \"\", \"marker\": {\"color\": \"#636efa\"}, \"name\": \"\", \"offsetgroup\": \"\", \"orientation\": \"v\", \"showlegend\": false, \"textposition\": \"auto\", \"type\": \"bar\", \"xaxis\": \"x5\", \"y\": [6913, 4633, 4529, 3465, 3358, 3333, 3303, 3254, 3226, 2956, 2937, 2917, 2893, 2787, 2685, 2655, 2543, 2508, 2481, 2474, 2190, 2167, 2141, 2118, 1964, 1958, 1873, 1855, 1790, 1728, 1709, 1700, 1677, 1635, 1425, 1375, 1346, 1337, 1304, 1267, 1205, 1048, 1013, 933, 871, 689, 551, 524, 484, 428, 311, 170, 104], \"yaxis\": \"y5\"}],\n",
              "                        {\"annotations\": [{\"font\": {}, \"showarrow\": false, \"text\": \"Country=Denmark\", \"x\": 0.09200000000000001, \"xanchor\": \"center\", \"xref\": \"paper\", \"y\": 1.0, \"yanchor\": \"bottom\", \"yref\": \"paper\"}, {\"font\": {}, \"showarrow\": false, \"text\": \"Country=EIRE\", \"x\": 0.29600000000000004, \"xanchor\": \"center\", \"xref\": \"paper\", \"y\": 1.0, \"yanchor\": \"bottom\", \"yref\": \"paper\"}, {\"font\": {}, \"showarrow\": false, \"text\": \"Country=Netherlands\", \"x\": 0.5, \"xanchor\": \"center\", \"xref\": \"paper\", \"y\": 1.0, \"yanchor\": \"bottom\", \"yref\": \"paper\"}, {\"font\": {}, \"showarrow\": false, \"text\": \"Country=France\", \"x\": 0.7040000000000002, \"xanchor\": \"center\", \"xref\": \"paper\", \"y\": 1.0, \"yanchor\": \"bottom\", \"yref\": \"paper\"}, {\"font\": {}, \"showarrow\": false, \"text\": \"Country=Germany\", \"x\": 0.908, \"xanchor\": \"center\", \"xref\": \"paper\", \"y\": 1.0, \"yanchor\": \"bottom\", \"yref\": \"paper\"}], \"barmode\": \"relative\", \"height\": 400, \"legend\": {\"tracegroupgap\": 0}, \"margin\": {\"t\": 60}, \"template\": {\"data\": {\"bar\": [{\"error_x\": {\"color\": \"#2a3f5f\"}, \"error_y\": {\"color\": \"#2a3f5f\"}, \"marker\": {\"line\": {\"color\": \"#E5ECF6\", \"width\": 0.5}}, \"type\": \"bar\"}], \"barpolar\": [{\"marker\": {\"line\": {\"color\": \"#E5ECF6\", \"width\": 0.5}}, \"type\": \"barpolar\"}], \"carpet\": [{\"aaxis\": {\"endlinecolor\": \"#2a3f5f\", \"gridcolor\": \"white\", \"linecolor\": \"white\", \"minorgridcolor\": \"white\", \"startlinecolor\": \"#2a3f5f\"}, \"baxis\": {\"endlinecolor\": \"#2a3f5f\", \"gridcolor\": \"white\", \"linecolor\": \"white\", \"minorgridcolor\": \"white\", \"startlinecolor\": \"#2a3f5f\"}, \"type\": \"carpet\"}], \"choropleth\": [{\"colorbar\": {\"outlinewidth\": 0, \"ticks\": \"\"}, \"type\": \"choropleth\"}], \"contour\": [{\"colorbar\": {\"outlinewidth\": 0, \"ticks\": \"\"}, \"colorscale\": [[0.0, \"#0d0887\"], [0.1111111111111111, \"#46039f\"], [0.2222222222222222, \"#7201a8\"], [0.3333333333333333, \"#9c179e\"], [0.4444444444444444, \"#bd3786\"], [0.5555555555555556, \"#d8576b\"], [0.6666666666666666, \"#ed7953\"], [0.7777777777777778, \"#fb9f3a\"], [0.8888888888888888, \"#fdca26\"], [1.0, \"#f0f921\"]], \"type\": \"contour\"}], \"contourcarpet\": [{\"colorbar\": {\"outlinewidth\": 0, \"ticks\": \"\"}, \"type\": \"contourcarpet\"}], \"heatmap\": [{\"colorbar\": {\"outlinewidth\": 0, \"ticks\": \"\"}, \"colorscale\": [[0.0, \"#0d0887\"], [0.1111111111111111, \"#46039f\"], [0.2222222222222222, \"#7201a8\"], [0.3333333333333333, \"#9c179e\"], [0.4444444444444444, \"#bd3786\"], [0.5555555555555556, \"#d8576b\"], [0.6666666666666666, \"#ed7953\"], [0.7777777777777778, \"#fb9f3a\"], [0.8888888888888888, \"#fdca26\"], [1.0, \"#f0f921\"]], \"type\": \"heatmap\"}], \"heatmapgl\": [{\"colorbar\": {\"outlinewidth\": 0, \"ticks\": \"\"}, \"colorscale\": [[0.0, \"#0d0887\"], [0.1111111111111111, \"#46039f\"], [0.2222222222222222, \"#7201a8\"], [0.3333333333333333, \"#9c179e\"], [0.4444444444444444, \"#bd3786\"], [0.5555555555555556, \"#d8576b\"], [0.6666666666666666, \"#ed7953\"], [0.7777777777777778, \"#fb9f3a\"], [0.8888888888888888, \"#fdca26\"], [1.0, \"#f0f921\"]], \"type\": \"heatmapgl\"}], \"histogram\": [{\"marker\": {\"colorbar\": {\"outlinewidth\": 0, \"ticks\": \"\"}}, \"type\": \"histogram\"}], \"histogram2d\": [{\"colorbar\": {\"outlinewidth\": 0, \"ticks\": \"\"}, \"colorscale\": [[0.0, \"#0d0887\"], [0.1111111111111111, \"#46039f\"], [0.2222222222222222, \"#7201a8\"], [0.3333333333333333, \"#9c179e\"], [0.4444444444444444, \"#bd3786\"], [0.5555555555555556, \"#d8576b\"], [0.6666666666666666, \"#ed7953\"], [0.7777777777777778, \"#fb9f3a\"], [0.8888888888888888, \"#fdca26\"], [1.0, \"#f0f921\"]], \"type\": \"histogram2d\"}], \"histogram2dcontour\": [{\"colorbar\": {\"outlinewidth\": 0, \"ticks\": \"\"}, \"colorscale\": [[0.0, \"#0d0887\"], [0.1111111111111111, \"#46039f\"], [0.2222222222222222, \"#7201a8\"], [0.3333333333333333, \"#9c179e\"], [0.4444444444444444, \"#bd3786\"], [0.5555555555555556, \"#d8576b\"], [0.6666666666666666, \"#ed7953\"], [0.7777777777777778, \"#fb9f3a\"], [0.8888888888888888, \"#fdca26\"], [1.0, \"#f0f921\"]], \"type\": \"histogram2dcontour\"}], \"mesh3d\": [{\"colorbar\": {\"outlinewidth\": 0, \"ticks\": \"\"}, \"type\": \"mesh3d\"}], \"parcoords\": [{\"line\": {\"colorbar\": {\"outlinewidth\": 0, \"ticks\": \"\"}}, \"type\": \"parcoords\"}], \"pie\": [{\"automargin\": true, \"type\": \"pie\"}], \"scatter\": [{\"marker\": {\"colorbar\": {\"outlinewidth\": 0, \"ticks\": \"\"}}, \"type\": \"scatter\"}], \"scatter3d\": [{\"line\": {\"colorbar\": {\"outlinewidth\": 0, \"ticks\": \"\"}}, \"marker\": {\"colorbar\": {\"outlinewidth\": 0, \"ticks\": \"\"}}, \"type\": \"scatter3d\"}], \"scattercarpet\": [{\"marker\": {\"colorbar\": {\"outlinewidth\": 0, \"ticks\": \"\"}}, \"type\": \"scattercarpet\"}], \"scattergeo\": [{\"marker\": {\"colorbar\": {\"outlinewidth\": 0, \"ticks\": \"\"}}, \"type\": \"scattergeo\"}], \"scattergl\": [{\"marker\": {\"colorbar\": {\"outlinewidth\": 0, \"ticks\": \"\"}}, \"type\": \"scattergl\"}], \"scattermapbox\": [{\"marker\": {\"colorbar\": {\"outlinewidth\": 0, \"ticks\": \"\"}}, \"type\": \"scattermapbox\"}], \"scatterpolar\": [{\"marker\": {\"colorbar\": {\"outlinewidth\": 0, \"ticks\": \"\"}}, \"type\": \"scatterpolar\"}], \"scatterpolargl\": [{\"marker\": {\"colorbar\": {\"outlinewidth\": 0, \"ticks\": \"\"}}, \"type\": \"scatterpolargl\"}], \"scatterternary\": [{\"marker\": {\"colorbar\": {\"outlinewidth\": 0, \"ticks\": \"\"}}, \"type\": \"scatterternary\"}], \"surface\": [{\"colorbar\": {\"outlinewidth\": 0, \"ticks\": \"\"}, \"colorscale\": [[0.0, \"#0d0887\"], [0.1111111111111111, \"#46039f\"], [0.2222222222222222, \"#7201a8\"], [0.3333333333333333, \"#9c179e\"], [0.4444444444444444, \"#bd3786\"], [0.5555555555555556, \"#d8576b\"], [0.6666666666666666, \"#ed7953\"], [0.7777777777777778, \"#fb9f3a\"], [0.8888888888888888, \"#fdca26\"], [1.0, \"#f0f921\"]], \"type\": \"surface\"}], \"table\": [{\"cells\": {\"fill\": {\"color\": \"#EBF0F8\"}, \"line\": {\"color\": \"white\"}}, \"header\": {\"fill\": {\"color\": \"#C8D4E3\"}, \"line\": {\"color\": \"white\"}}, \"type\": \"table\"}]}, \"layout\": {\"annotationdefaults\": {\"arrowcolor\": \"#2a3f5f\", \"arrowhead\": 0, \"arrowwidth\": 1}, \"coloraxis\": {\"colorbar\": {\"outlinewidth\": 0, \"ticks\": \"\"}}, \"colorscale\": {\"diverging\": [[0, \"#8e0152\"], [0.1, \"#c51b7d\"], [0.2, \"#de77ae\"], [0.3, \"#f1b6da\"], [0.4, \"#fde0ef\"], [0.5, \"#f7f7f7\"], [0.6, \"#e6f5d0\"], [0.7, \"#b8e186\"], [0.8, \"#7fbc41\"], [0.9, \"#4d9221\"], [1, \"#276419\"]], \"sequential\": [[0.0, \"#0d0887\"], [0.1111111111111111, \"#46039f\"], [0.2222222222222222, \"#7201a8\"], [0.3333333333333333, \"#9c179e\"], [0.4444444444444444, \"#bd3786\"], [0.5555555555555556, \"#d8576b\"], [0.6666666666666666, \"#ed7953\"], [0.7777777777777778, \"#fb9f3a\"], [0.8888888888888888, \"#fdca26\"], [1.0, \"#f0f921\"]], \"sequentialminus\": [[0.0, \"#0d0887\"], [0.1111111111111111, \"#46039f\"], [0.2222222222222222, \"#7201a8\"], [0.3333333333333333, \"#9c179e\"], [0.4444444444444444, \"#bd3786\"], [0.5555555555555556, \"#d8576b\"], [0.6666666666666666, \"#ed7953\"], [0.7777777777777778, \"#fb9f3a\"], [0.8888888888888888, \"#fdca26\"], [1.0, \"#f0f921\"]]}, \"colorway\": [\"#636efa\", \"#EF553B\", \"#00cc96\", \"#ab63fa\", \"#FFA15A\", \"#19d3f3\", \"#FF6692\", \"#B6E880\", \"#FF97FF\", \"#FECB52\"], \"font\": {\"color\": \"#2a3f5f\"}, \"geo\": {\"bgcolor\": \"white\", \"lakecolor\": \"white\", \"landcolor\": \"#E5ECF6\", \"showlakes\": true, \"showland\": true, \"subunitcolor\": \"white\"}, \"hoverlabel\": {\"align\": \"left\"}, \"hovermode\": \"closest\", \"mapbox\": {\"style\": \"light\"}, \"paper_bgcolor\": \"white\", \"plot_bgcolor\": \"#E5ECF6\", \"polar\": {\"angularaxis\": {\"gridcolor\": \"white\", \"linecolor\": \"white\", \"ticks\": \"\"}, \"bgcolor\": \"#E5ECF6\", \"radialaxis\": {\"gridcolor\": \"white\", \"linecolor\": \"white\", \"ticks\": \"\"}}, \"scene\": {\"xaxis\": {\"backgroundcolor\": \"#E5ECF6\", \"gridcolor\": \"white\", \"gridwidth\": 2, \"linecolor\": \"white\", \"showbackground\": true, \"ticks\": \"\", \"zerolinecolor\": \"white\"}, \"yaxis\": {\"backgroundcolor\": \"#E5ECF6\", \"gridcolor\": \"white\", \"gridwidth\": 2, \"linecolor\": \"white\", \"showbackground\": true, \"ticks\": \"\", \"zerolinecolor\": \"white\"}, \"zaxis\": {\"backgroundcolor\": \"#E5ECF6\", \"gridcolor\": \"white\", \"gridwidth\": 2, \"linecolor\": \"white\", \"showbackground\": true, \"ticks\": \"\", \"zerolinecolor\": \"white\"}}, \"shapedefaults\": {\"line\": {\"color\": \"#2a3f5f\"}}, \"ternary\": {\"aaxis\": {\"gridcolor\": \"white\", \"linecolor\": \"white\", \"ticks\": \"\"}, \"baxis\": {\"gridcolor\": \"white\", \"linecolor\": \"white\", \"ticks\": \"\"}, \"bgcolor\": \"#E5ECF6\", \"caxis\": {\"gridcolor\": \"white\", \"linecolor\": \"white\", \"ticks\": \"\"}}, \"title\": {\"x\": 0.05}, \"xaxis\": {\"automargin\": true, \"gridcolor\": \"white\", \"linecolor\": \"white\", \"ticks\": \"\", \"title\": {\"standoff\": 15}, \"zerolinecolor\": \"white\", \"zerolinewidth\": 2}, \"yaxis\": {\"automargin\": true, \"gridcolor\": \"white\", \"linecolor\": \"white\", \"ticks\": \"\", \"title\": {\"standoff\": 15}, \"zerolinecolor\": \"white\", \"zerolinewidth\": 2}}}, \"xaxis\": {\"anchor\": \"y\", \"domain\": [0.0, 0.18400000000000002]}, \"xaxis2\": {\"anchor\": \"y2\", \"domain\": [0.20400000000000001, 0.388], \"matches\": \"x\"}, \"xaxis3\": {\"anchor\": \"y3\", \"domain\": [0.40800000000000003, 0.5920000000000001], \"matches\": \"x\"}, \"xaxis4\": {\"anchor\": \"y4\", \"domain\": [0.6120000000000001, 0.7960000000000002], \"matches\": \"x\"}, \"xaxis5\": {\"anchor\": \"y5\", \"domain\": [0.8160000000000001, 1.0], \"matches\": \"x\"}, \"yaxis\": {\"anchor\": \"x\", \"domain\": [0.0, 1.0], \"title\": {\"text\": \"Quantity\"}}, \"yaxis2\": {\"anchor\": \"x2\", \"domain\": [0.0, 1.0], \"matches\": \"y\", \"showticklabels\": false}, \"yaxis3\": {\"anchor\": \"x3\", \"domain\": [0.0, 1.0], \"matches\": \"y\", \"showticklabels\": false}, \"yaxis4\": {\"anchor\": \"x4\", \"domain\": [0.0, 1.0], \"matches\": \"y\", \"showticklabels\": false}, \"yaxis5\": {\"anchor\": \"x5\", \"domain\": [0.0, 1.0], \"matches\": \"y\", \"showticklabels\": false}},\n",
              "                        {\"responsive\": true}\n",
              "                    ).then(function(){\n",
              "                            \n",
              "var gd = document.getElementById('0b990939-28ea-477f-bc5e-5325e8eb1789');\n",
              "var x = new MutationObserver(function (mutations, observer) {{\n",
              "        var display = window.getComputedStyle(gd).display;\n",
              "        if (!display || display === 'none') {{\n",
              "            console.log([gd, 'removed!']);\n",
              "            Plotly.purge(gd);\n",
              "            observer.disconnect();\n",
              "        }}\n",
              "}});\n",
              "\n",
              "// Listen for the removal of the full notebook cells\n",
              "var notebookContainer = gd.closest('#notebook-container');\n",
              "if (notebookContainer) {{\n",
              "    x.observe(notebookContainer, {childList: true});\n",
              "}}\n",
              "\n",
              "// Listen for the clearing of the current output cell\n",
              "var outputEl = gd.closest('.output');\n",
              "if (outputEl) {{\n",
              "    x.observe(outputEl, {childList: true});\n",
              "}}\n",
              "\n",
              "                        })\n",
              "                };\n",
              "                \n",
              "            </script>\n",
              "        </div>\n",
              "</body>\n",
              "</html>"
            ]
          },
          "metadata": {
            "tags": []
          }
        }
      ]
    },
    {
      "cell_type": "markdown",
      "metadata": {
        "id": "GzsGbStZgl0-"
      },
      "source": [
        "## Part C"
      ]
    },
    {
      "cell_type": "markdown",
      "metadata": {
        "id": "Z11_AnlovsR_"
      },
      "source": [
        "**(price == unit price)**\n",
        "\n",
        "**Q: For 2009-2010, show a table (dataframe) of the average invoice value (over all of 2009-2010 data) by country, shown in ascending invoice value. Exclude any rows that have returns (quantities that are negative) from the averages shown.**\n",
        "\n",
        "**Make the same table again but include only orders where the total number of items (eg: total quantity for the order) was 10 items or fewer.**"
      ]
    },
    {
      "cell_type": "code",
      "metadata": {
        "id": "PN-beEGNwOrb",
        "colab": {
          "base_uri": "https://localhost:8080/",
          "height": 436
        },
        "outputId": "76abbfc3-caf8-4759-af6e-47215213f226"
      },
      "source": [
        "#Average Invoice Value = Sum_invoice (Invoice Value)/Number of Invoice\n",
        "#Invoice Average Value = Sum_item (Quantity * Price)/ Number of quantity in an invoice\n",
        "\n",
        "df3 = df1[['Invoice','StockCode','Quantity','Price','Country']]\n",
        "df3['invoice_item_value'] = df3['Quantity']*df3['Price'] #\"invoice_item_value\" represents the value of all items (having the same StockCode) in a transaction \n",
        "\n",
        "temp3 = df3.groupby(['Country', pd.Grouper(key='Invoice')])['invoice_item_value','Quantity'].sum() #the value of all items and the quantity of all items in an invoice\n",
        "temp3 "
      ],
      "execution_count": null,
      "outputs": [
        {
          "output_type": "execute_result",
          "data": {
            "text/html": [
              "<div>\n",
              "<style scoped>\n",
              "    .dataframe tbody tr th:only-of-type {\n",
              "        vertical-align: middle;\n",
              "    }\n",
              "\n",
              "    .dataframe tbody tr th {\n",
              "        vertical-align: top;\n",
              "    }\n",
              "\n",
              "    .dataframe thead th {\n",
              "        text-align: right;\n",
              "    }\n",
              "</style>\n",
              "<table border=\"1\" class=\"dataframe\">\n",
              "  <thead>\n",
              "    <tr style=\"text-align: right;\">\n",
              "      <th></th>\n",
              "      <th></th>\n",
              "      <th>invoice_item_value</th>\n",
              "      <th>Quantity</th>\n",
              "    </tr>\n",
              "    <tr>\n",
              "      <th>Country</th>\n",
              "      <th>Invoice</th>\n",
              "      <th></th>\n",
              "      <th></th>\n",
              "    </tr>\n",
              "  </thead>\n",
              "  <tbody>\n",
              "    <tr>\n",
              "      <th rowspan=\"5\" valign=\"top\">Australia</th>\n",
              "      <th>489450</th>\n",
              "      <td>196.10</td>\n",
              "      <td>100</td>\n",
              "    </tr>\n",
              "    <tr>\n",
              "      <th>492744</th>\n",
              "      <td>75.00</td>\n",
              "      <td>60</td>\n",
              "    </tr>\n",
              "    <tr>\n",
              "      <th>497879</th>\n",
              "      <td>662.25</td>\n",
              "      <td>425</td>\n",
              "    </tr>\n",
              "    <tr>\n",
              "      <th>498550</th>\n",
              "      <td>202.56</td>\n",
              "      <td>132</td>\n",
              "    </tr>\n",
              "    <tr>\n",
              "      <th>498617</th>\n",
              "      <td>164.85</td>\n",
              "      <td>67</td>\n",
              "    </tr>\n",
              "    <tr>\n",
              "      <th>...</th>\n",
              "      <th>...</th>\n",
              "      <td>...</td>\n",
              "      <td>...</td>\n",
              "    </tr>\n",
              "    <tr>\n",
              "      <th rowspan=\"4\" valign=\"top\">Unspecified</th>\n",
              "      <th>531208</th>\n",
              "      <td>235.24</td>\n",
              "      <td>102</td>\n",
              "    </tr>\n",
              "    <tr>\n",
              "      <th>531209</th>\n",
              "      <td>2.50</td>\n",
              "      <td>2</td>\n",
              "    </tr>\n",
              "    <tr>\n",
              "      <th>531212</th>\n",
              "      <td>1.90</td>\n",
              "      <td>2</td>\n",
              "    </tr>\n",
              "    <tr>\n",
              "      <th>536012</th>\n",
              "      <td>300.93</td>\n",
              "      <td>261</td>\n",
              "    </tr>\n",
              "    <tr>\n",
              "      <th>West Indies</th>\n",
              "      <th>520018</th>\n",
              "      <td>536.41</td>\n",
              "      <td>395</td>\n",
              "    </tr>\n",
              "  </tbody>\n",
              "</table>\n",
              "<p>22101 rows × 2 columns</p>\n",
              "</div>"
            ],
            "text/plain": [
              "                     invoice_item_value  Quantity\n",
              "Country     Invoice                              \n",
              "Australia   489450               196.10       100\n",
              "            492744                75.00        60\n",
              "            497879               662.25       425\n",
              "            498550               202.56       132\n",
              "            498617               164.85        67\n",
              "...                                 ...       ...\n",
              "Unspecified 531208               235.24       102\n",
              "            531209                 2.50         2\n",
              "            531212                 1.90         2\n",
              "            536012               300.93       261\n",
              "West Indies 520018               536.41       395\n",
              "\n",
              "[22101 rows x 2 columns]"
            ]
          },
          "metadata": {
            "tags": []
          },
          "execution_count": 22
        }
      ]
    },
    {
      "cell_type": "code",
      "metadata": {
        "id": "gwhLIzWM5lUs",
        "colab": {
          "base_uri": "https://localhost:8080/",
          "height": 1000
        },
        "outputId": "50898e84-cf43-468d-d258-03c50fd63973"
      },
      "source": [
        "#Average Invoice Value by country, in ascending invoice value\n",
        "\n",
        "temp4 = pd.DataFrame(temp3)\n",
        "temp4 = temp4.groupby(['Country'])['invoice_item_value','Quantity'].mean().sort_values('invoice_item_value')\n",
        "temp4.rename(columns={'invoice_item_value':'Average Invoice Value'}) #\"Quantity\" here represents the average quantity per invoice"
      ],
      "execution_count": null,
      "outputs": [
        {
          "output_type": "execute_result",
          "data": {
            "text/html": [
              "<div>\n",
              "<style scoped>\n",
              "    .dataframe tbody tr th:only-of-type {\n",
              "        vertical-align: middle;\n",
              "    }\n",
              "\n",
              "    .dataframe tbody tr th {\n",
              "        vertical-align: top;\n",
              "    }\n",
              "\n",
              "    .dataframe thead th {\n",
              "        text-align: right;\n",
              "    }\n",
              "</style>\n",
              "<table border=\"1\" class=\"dataframe\">\n",
              "  <thead>\n",
              "    <tr style=\"text-align: right;\">\n",
              "      <th></th>\n",
              "      <th>Average Invoice Value</th>\n",
              "      <th>Quantity</th>\n",
              "    </tr>\n",
              "    <tr>\n",
              "      <th>Country</th>\n",
              "      <th></th>\n",
              "      <th></th>\n",
              "    </tr>\n",
              "  </thead>\n",
              "  <tbody>\n",
              "    <tr>\n",
              "      <th>Nigeria</th>\n",
              "      <td>70.195000</td>\n",
              "      <td>51.500000</td>\n",
              "    </tr>\n",
              "    <tr>\n",
              "      <th>Lebanon</th>\n",
              "      <td>211.700000</td>\n",
              "      <td>72.000000</td>\n",
              "    </tr>\n",
              "    <tr>\n",
              "      <th>Brazil</th>\n",
              "      <td>268.270000</td>\n",
              "      <td>189.000000</td>\n",
              "    </tr>\n",
              "    <tr>\n",
              "      <th>USA</th>\n",
              "      <td>319.098000</td>\n",
              "      <td>187.066667</td>\n",
              "    </tr>\n",
              "    <tr>\n",
              "      <th>Bahrain</th>\n",
              "      <td>336.521429</td>\n",
              "      <td>146.428571</td>\n",
              "    </tr>\n",
              "    <tr>\n",
              "      <th>Poland</th>\n",
              "      <td>356.780000</td>\n",
              "      <td>214.400000</td>\n",
              "    </tr>\n",
              "    <tr>\n",
              "      <th>United Kingdom</th>\n",
              "      <td>432.785189</td>\n",
              "      <td>239.746477</td>\n",
              "    </tr>\n",
              "    <tr>\n",
              "      <th>Finland</th>\n",
              "      <td>461.216250</td>\n",
              "      <td>229.437500</td>\n",
              "    </tr>\n",
              "    <tr>\n",
              "      <th>Belgium</th>\n",
              "      <td>472.251538</td>\n",
              "      <td>232.211538</td>\n",
              "    </tr>\n",
              "    <tr>\n",
              "      <th>Austria</th>\n",
              "      <td>479.083214</td>\n",
              "      <td>239.178571</td>\n",
              "    </tr>\n",
              "    <tr>\n",
              "      <th>West Indies</th>\n",
              "      <td>536.410000</td>\n",
              "      <td>395.000000</td>\n",
              "    </tr>\n",
              "    <tr>\n",
              "      <th>Italy</th>\n",
              "      <td>538.113571</td>\n",
              "      <td>263.892857</td>\n",
              "    </tr>\n",
              "    <tr>\n",
              "      <th>Cyprus</th>\n",
              "      <td>542.369048</td>\n",
              "      <td>220.238095</td>\n",
              "    </tr>\n",
              "    <tr>\n",
              "      <th>Korea</th>\n",
              "      <td>559.255000</td>\n",
              "      <td>350.000000</td>\n",
              "    </tr>\n",
              "    <tr>\n",
              "      <th>Unspecified</th>\n",
              "      <td>562.383636</td>\n",
              "      <td>312.181818</td>\n",
              "    </tr>\n",
              "    <tr>\n",
              "      <th>Germany</th>\n",
              "      <td>583.271818</td>\n",
              "      <td>313.371758</td>\n",
              "    </tr>\n",
              "    <tr>\n",
              "      <th>Portugal</th>\n",
              "      <td>591.940244</td>\n",
              "      <td>296.365854</td>\n",
              "    </tr>\n",
              "    <tr>\n",
              "      <th>Japan</th>\n",
              "      <td>607.626250</td>\n",
              "      <td>456.937500</td>\n",
              "    </tr>\n",
              "    <tr>\n",
              "      <th>Canada</th>\n",
              "      <td>608.330000</td>\n",
              "      <td>447.000000</td>\n",
              "    </tr>\n",
              "    <tr>\n",
              "      <th>France</th>\n",
              "      <td>610.836058</td>\n",
              "      <td>677.107884</td>\n",
              "    </tr>\n",
              "    <tr>\n",
              "      <th>Iceland</th>\n",
              "      <td>661.660000</td>\n",
              "      <td>414.000000</td>\n",
              "    </tr>\n",
              "    <tr>\n",
              "      <th>United Arab Emirates</th>\n",
              "      <td>707.334615</td>\n",
              "      <td>487.615385</td>\n",
              "    </tr>\n",
              "    <tr>\n",
              "      <th>Spain</th>\n",
              "      <td>721.233636</td>\n",
              "      <td>346.303030</td>\n",
              "    </tr>\n",
              "    <tr>\n",
              "      <th>Sweden</th>\n",
              "      <td>775.730290</td>\n",
              "      <td>761.840580</td>\n",
              "    </tr>\n",
              "    <tr>\n",
              "      <th>Australia</th>\n",
              "      <td>786.170000</td>\n",
              "      <td>504.725000</td>\n",
              "    </tr>\n",
              "    <tr>\n",
              "      <th>Lithuania</th>\n",
              "      <td>815.446667</td>\n",
              "      <td>384.333333</td>\n",
              "    </tr>\n",
              "    <tr>\n",
              "      <th>Channel Islands</th>\n",
              "      <td>818.210667</td>\n",
              "      <td>399.700000</td>\n",
              "    </tr>\n",
              "    <tr>\n",
              "      <th>Singapore</th>\n",
              "      <td>1009.442500</td>\n",
              "      <td>438.250000</td>\n",
              "    </tr>\n",
              "    <tr>\n",
              "      <th>EIRE</th>\n",
              "      <td>1094.763851</td>\n",
              "      <td>554.933908</td>\n",
              "    </tr>\n",
              "    <tr>\n",
              "      <th>Switzerland</th>\n",
              "      <td>1098.034750</td>\n",
              "      <td>556.375000</td>\n",
              "    </tr>\n",
              "    <tr>\n",
              "      <th>Greece</th>\n",
              "      <td>1102.743846</td>\n",
              "      <td>474.384615</td>\n",
              "    </tr>\n",
              "    <tr>\n",
              "      <th>Bermuda</th>\n",
              "      <td>1253.140000</td>\n",
              "      <td>2798.000000</td>\n",
              "    </tr>\n",
              "    <tr>\n",
              "      <th>RSA</th>\n",
              "      <td>1267.336667</td>\n",
              "      <td>539.666667</td>\n",
              "    </tr>\n",
              "    <tr>\n",
              "      <th>Malta</th>\n",
              "      <td>1343.375000</td>\n",
              "      <td>387.250000</td>\n",
              "    </tr>\n",
              "    <tr>\n",
              "      <th>Thailand</th>\n",
              "      <td>1535.270000</td>\n",
              "      <td>1276.000000</td>\n",
              "    </tr>\n",
              "    <tr>\n",
              "      <th>Israel</th>\n",
              "      <td>1599.700000</td>\n",
              "      <td>566.000000</td>\n",
              "    </tr>\n",
              "    <tr>\n",
              "      <th>Denmark</th>\n",
              "      <td>1957.955769</td>\n",
              "      <td>8834.230769</td>\n",
              "    </tr>\n",
              "    <tr>\n",
              "      <th>Netherlands</th>\n",
              "      <td>1991.007407</td>\n",
              "      <td>1360.592593</td>\n",
              "    </tr>\n",
              "    <tr>\n",
              "      <th>Hong Kong</th>\n",
              "      <td>2050.630000</td>\n",
              "      <td>577.000000</td>\n",
              "    </tr>\n",
              "    <tr>\n",
              "      <th>Norway</th>\n",
              "      <td>2176.743636</td>\n",
              "      <td>715.181818</td>\n",
              "    </tr>\n",
              "  </tbody>\n",
              "</table>\n",
              "</div>"
            ],
            "text/plain": [
              "                      Average Invoice Value     Quantity\n",
              "Country                                                 \n",
              "Nigeria                           70.195000    51.500000\n",
              "Lebanon                          211.700000    72.000000\n",
              "Brazil                           268.270000   189.000000\n",
              "USA                              319.098000   187.066667\n",
              "Bahrain                          336.521429   146.428571\n",
              "Poland                           356.780000   214.400000\n",
              "United Kingdom                   432.785189   239.746477\n",
              "Finland                          461.216250   229.437500\n",
              "Belgium                          472.251538   232.211538\n",
              "Austria                          479.083214   239.178571\n",
              "West Indies                      536.410000   395.000000\n",
              "Italy                            538.113571   263.892857\n",
              "Cyprus                           542.369048   220.238095\n",
              "Korea                            559.255000   350.000000\n",
              "Unspecified                      562.383636   312.181818\n",
              "Germany                          583.271818   313.371758\n",
              "Portugal                         591.940244   296.365854\n",
              "Japan                            607.626250   456.937500\n",
              "Canada                           608.330000   447.000000\n",
              "France                           610.836058   677.107884\n",
              "Iceland                          661.660000   414.000000\n",
              "United Arab Emirates             707.334615   487.615385\n",
              "Spain                            721.233636   346.303030\n",
              "Sweden                           775.730290   761.840580\n",
              "Australia                        786.170000   504.725000\n",
              "Lithuania                        815.446667   384.333333\n",
              "Channel Islands                  818.210667   399.700000\n",
              "Singapore                       1009.442500   438.250000\n",
              "EIRE                            1094.763851   554.933908\n",
              "Switzerland                     1098.034750   556.375000\n",
              "Greece                          1102.743846   474.384615\n",
              "Bermuda                         1253.140000  2798.000000\n",
              "RSA                             1267.336667   539.666667\n",
              "Malta                           1343.375000   387.250000\n",
              "Thailand                        1535.270000  1276.000000\n",
              "Israel                          1599.700000   566.000000\n",
              "Denmark                         1957.955769  8834.230769\n",
              "Netherlands                     1991.007407  1360.592593\n",
              "Hong Kong                       2050.630000   577.000000\n",
              "Norway                          2176.743636   715.181818"
            ]
          },
          "metadata": {
            "tags": []
          },
          "execution_count": 23
        }
      ]
    },
    {
      "cell_type": "code",
      "metadata": {
        "id": "RGZMhst_6ev0",
        "colab": {
          "base_uri": "https://localhost:8080/",
          "height": 857
        },
        "outputId": "f4fd1588-9c61-43dc-cf5d-805efe6b2e15"
      },
      "source": [
        "# Make the same table again but include only orders where the total number of items (eg: total quantity for the order) was 10 items or fewer.\n",
        "\n",
        "temp3 = df3.groupby(['Country', pd.Grouper(key='Invoice')])['invoice_item_value','Quantity'].sum() #the value of all items and the quantity of all items in an invoice\n",
        "temp3 = pd.DataFrame(temp3)\n",
        "temp3 = temp3[temp3['Quantity'] < 11] #\"Quantity\" here represents the total number of items in an invoice\n",
        "temp4 = temp3.groupby(['Country'])['invoice_item_value','Quantity'].mean().sort_values('invoice_item_value') #\"Quantity\" here represents the average quantity per invoice in the subset\n",
        "temp4 = pd.DataFrame(temp4)\n",
        "temp4.rename(columns={'invoice_item_value':'Average Invoice Value'})"
      ],
      "execution_count": null,
      "outputs": [
        {
          "output_type": "execute_result",
          "data": {
            "text/html": [
              "<div>\n",
              "<style scoped>\n",
              "    .dataframe tbody tr th:only-of-type {\n",
              "        vertical-align: middle;\n",
              "    }\n",
              "\n",
              "    .dataframe tbody tr th {\n",
              "        vertical-align: top;\n",
              "    }\n",
              "\n",
              "    .dataframe thead th {\n",
              "        text-align: right;\n",
              "    }\n",
              "</style>\n",
              "<table border=\"1\" class=\"dataframe\">\n",
              "  <thead>\n",
              "    <tr style=\"text-align: right;\">\n",
              "      <th></th>\n",
              "      <th>Average Invoice Value</th>\n",
              "      <th>Quantity</th>\n",
              "    </tr>\n",
              "    <tr>\n",
              "      <th>Country</th>\n",
              "      <th></th>\n",
              "      <th></th>\n",
              "    </tr>\n",
              "  </thead>\n",
              "  <tbody>\n",
              "    <tr>\n",
              "      <th>Unspecified</th>\n",
              "      <td>2.200000</td>\n",
              "      <td>2.000000</td>\n",
              "    </tr>\n",
              "    <tr>\n",
              "      <th>Japan</th>\n",
              "      <td>8.970000</td>\n",
              "      <td>3.800000</td>\n",
              "    </tr>\n",
              "    <tr>\n",
              "      <th>Channel Islands</th>\n",
              "      <td>25.500000</td>\n",
              "      <td>2.000000</td>\n",
              "    </tr>\n",
              "    <tr>\n",
              "      <th>Nigeria</th>\n",
              "      <td>27.820000</td>\n",
              "      <td>1.000000</td>\n",
              "    </tr>\n",
              "    <tr>\n",
              "      <th>Cyprus</th>\n",
              "      <td>38.100000</td>\n",
              "      <td>6.000000</td>\n",
              "    </tr>\n",
              "    <tr>\n",
              "      <th>Finland</th>\n",
              "      <td>39.513333</td>\n",
              "      <td>2.666667</td>\n",
              "    </tr>\n",
              "    <tr>\n",
              "      <th>Portugal</th>\n",
              "      <td>63.673333</td>\n",
              "      <td>3.666667</td>\n",
              "    </tr>\n",
              "    <tr>\n",
              "      <th>Denmark</th>\n",
              "      <td>90.000000</td>\n",
              "      <td>5.000000</td>\n",
              "    </tr>\n",
              "    <tr>\n",
              "      <th>Germany</th>\n",
              "      <td>100.637857</td>\n",
              "      <td>3.071429</td>\n",
              "    </tr>\n",
              "    <tr>\n",
              "      <th>Netherlands</th>\n",
              "      <td>101.806667</td>\n",
              "      <td>2.833333</td>\n",
              "    </tr>\n",
              "    <tr>\n",
              "      <th>USA</th>\n",
              "      <td>111.500000</td>\n",
              "      <td>1.000000</td>\n",
              "    </tr>\n",
              "    <tr>\n",
              "      <th>United Kingdom</th>\n",
              "      <td>117.868691</td>\n",
              "      <td>3.558255</td>\n",
              "    </tr>\n",
              "    <tr>\n",
              "      <th>Italy</th>\n",
              "      <td>118.105000</td>\n",
              "      <td>1.000000</td>\n",
              "    </tr>\n",
              "    <tr>\n",
              "      <th>Austria</th>\n",
              "      <td>124.000000</td>\n",
              "      <td>2.200000</td>\n",
              "    </tr>\n",
              "    <tr>\n",
              "      <th>Australia</th>\n",
              "      <td>198.895000</td>\n",
              "      <td>2.166667</td>\n",
              "    </tr>\n",
              "    <tr>\n",
              "      <th>Spain</th>\n",
              "      <td>208.599000</td>\n",
              "      <td>2.200000</td>\n",
              "    </tr>\n",
              "    <tr>\n",
              "      <th>Switzerland</th>\n",
              "      <td>251.500000</td>\n",
              "      <td>1.500000</td>\n",
              "    </tr>\n",
              "    <tr>\n",
              "      <th>United Arab Emirates</th>\n",
              "      <td>262.300000</td>\n",
              "      <td>1.333333</td>\n",
              "    </tr>\n",
              "    <tr>\n",
              "      <th>Belgium</th>\n",
              "      <td>303.878571</td>\n",
              "      <td>3.285714</td>\n",
              "    </tr>\n",
              "    <tr>\n",
              "      <th>France</th>\n",
              "      <td>374.033125</td>\n",
              "      <td>2.312500</td>\n",
              "    </tr>\n",
              "    <tr>\n",
              "      <th>EIRE</th>\n",
              "      <td>388.104898</td>\n",
              "      <td>1.836735</td>\n",
              "    </tr>\n",
              "    <tr>\n",
              "      <th>Sweden</th>\n",
              "      <td>419.146000</td>\n",
              "      <td>1.600000</td>\n",
              "    </tr>\n",
              "    <tr>\n",
              "      <th>Malta</th>\n",
              "      <td>1343.375000</td>\n",
              "      <td>1.000000</td>\n",
              "    </tr>\n",
              "    <tr>\n",
              "      <th>RSA</th>\n",
              "      <td>1435.290000</td>\n",
              "      <td>1.000000</td>\n",
              "    </tr>\n",
              "    <tr>\n",
              "      <th>Hong Kong</th>\n",
              "      <td>2140.130000</td>\n",
              "      <td>1.000000</td>\n",
              "    </tr>\n",
              "    <tr>\n",
              "      <th>Norway</th>\n",
              "      <td>6958.170000</td>\n",
              "      <td>1.000000</td>\n",
              "    </tr>\n",
              "  </tbody>\n",
              "</table>\n",
              "</div>"
            ],
            "text/plain": [
              "                      Average Invoice Value  Quantity\n",
              "Country                                              \n",
              "Unspecified                        2.200000  2.000000\n",
              "Japan                              8.970000  3.800000\n",
              "Channel Islands                   25.500000  2.000000\n",
              "Nigeria                           27.820000  1.000000\n",
              "Cyprus                            38.100000  6.000000\n",
              "Finland                           39.513333  2.666667\n",
              "Portugal                          63.673333  3.666667\n",
              "Denmark                           90.000000  5.000000\n",
              "Germany                          100.637857  3.071429\n",
              "Netherlands                      101.806667  2.833333\n",
              "USA                              111.500000  1.000000\n",
              "United Kingdom                   117.868691  3.558255\n",
              "Italy                            118.105000  1.000000\n",
              "Austria                          124.000000  2.200000\n",
              "Australia                        198.895000  2.166667\n",
              "Spain                            208.599000  2.200000\n",
              "Switzerland                      251.500000  1.500000\n",
              "United Arab Emirates             262.300000  1.333333\n",
              "Belgium                          303.878571  3.285714\n",
              "France                           374.033125  2.312500\n",
              "EIRE                             388.104898  1.836735\n",
              "Sweden                           419.146000  1.600000\n",
              "Malta                           1343.375000  1.000000\n",
              "RSA                             1435.290000  1.000000\n",
              "Hong Kong                       2140.130000  1.000000\n",
              "Norway                          6958.170000  1.000000"
            ]
          },
          "metadata": {
            "tags": []
          },
          "execution_count": 24
        }
      ]
    },
    {
      "cell_type": "markdown",
      "metadata": {
        "id": "hW3m8BjKgpFQ"
      },
      "source": [
        "## Part D"
      ]
    },
    {
      "cell_type": "markdown",
      "metadata": {
        "id": "DK1A8FPVBUUT"
      },
      "source": [
        "**Q: What is the most common pair of items to appear in the same order? Ignore the quantity of each item when doing this analysis (so an order of [10xItem A, 5xItem B], would be the same as an order of [1xItem A, 1xItem B])**"
      ]
    },
    {
      "cell_type": "code",
      "metadata": {
        "id": "iQbZ_29nuonB",
        "colab": {
          "base_uri": "https://localhost:8080/",
          "height": 167
        },
        "outputId": "5c751048-c6c2-4345-83cd-27cc2517a725"
      },
      "source": [
        "#create a new dataframe of columns of interest\n",
        "df4 = df1[['StockCode','Invoice']]\n",
        "df4.describe(include=object)"
      ],
      "execution_count": null,
      "outputs": [
        {
          "output_type": "execute_result",
          "data": {
            "text/html": [
              "<div>\n",
              "<style scoped>\n",
              "    .dataframe tbody tr th:only-of-type {\n",
              "        vertical-align: middle;\n",
              "    }\n",
              "\n",
              "    .dataframe tbody tr th {\n",
              "        vertical-align: top;\n",
              "    }\n",
              "\n",
              "    .dataframe thead th {\n",
              "        text-align: right;\n",
              "    }\n",
              "</style>\n",
              "<table border=\"1\" class=\"dataframe\">\n",
              "  <thead>\n",
              "    <tr style=\"text-align: right;\">\n",
              "      <th></th>\n",
              "      <th>StockCode</th>\n",
              "      <th>Invoice</th>\n",
              "    </tr>\n",
              "  </thead>\n",
              "  <tbody>\n",
              "    <tr>\n",
              "      <th>count</th>\n",
              "      <td>513132</td>\n",
              "      <td>513132</td>\n",
              "    </tr>\n",
              "    <tr>\n",
              "      <th>unique</th>\n",
              "      <td>4316</td>\n",
              "      <td>22101</td>\n",
              "    </tr>\n",
              "    <tr>\n",
              "      <th>top</th>\n",
              "      <td>85123A</td>\n",
              "      <td>537434</td>\n",
              "    </tr>\n",
              "    <tr>\n",
              "      <th>freq</th>\n",
              "      <td>3422</td>\n",
              "      <td>675</td>\n",
              "    </tr>\n",
              "  </tbody>\n",
              "</table>\n",
              "</div>"
            ],
            "text/plain": [
              "       StockCode  Invoice\n",
              "count     513132   513132\n",
              "unique      4316    22101\n",
              "top       85123A   537434\n",
              "freq        3422      675"
            ]
          },
          "metadata": {
            "tags": []
          },
          "execution_count": 26
        }
      ]
    },
    {
      "cell_type": "code",
      "metadata": {
        "id": "aa0GoW92IgYS"
      },
      "source": [
        "#Make a large list of lists, where each composing small list has the StockCodes in the same invoice \n",
        "df4 = df1[['StockCode','Invoice']]\n",
        "ls_items = df4.groupby('Invoice')['StockCode'].apply(pd.Series.tolist).tolist()"
      ],
      "execution_count": null,
      "outputs": []
    },
    {
      "cell_type": "code",
      "metadata": {
        "id": "Yeyf20PgPCw3",
        "colab": {
          "base_uri": "https://localhost:8080/",
          "height": 390
        },
        "outputId": "538c21b1-6bef-4fe5-a153-4026c9235b77"
      },
      "source": [
        "#take a look at the nested list\n",
        "ls_items[:3] "
      ],
      "execution_count": null,
      "outputs": [
        {
          "output_type": "execute_result",
          "data": {
            "text/plain": [
              "[[85048, '79323P', '79323W', 22041, 21232, 22064, 21871, 21523],\n",
              " [22350, 22349, 22195, 22353],\n",
              " ['48173C',\n",
              "  21755,\n",
              "  21754,\n",
              "  84879,\n",
              "  22119,\n",
              "  22142,\n",
              "  22296,\n",
              "  22295,\n",
              "  22109,\n",
              "  22107,\n",
              "  22194,\n",
              "  '35004B',\n",
              "  82582,\n",
              "  21181,\n",
              "  21756,\n",
              "  21333,\n",
              "  '84596F',\n",
              "  '84596L',\n",
              "  22111]]"
            ]
          },
          "metadata": {
            "tags": []
          },
          "execution_count": 29
        }
      ]
    },
    {
      "cell_type": "code",
      "metadata": {
        "id": "dd7N6iTRGnvF",
        "colab": {
          "base_uri": "https://localhost:8080/",
          "height": 34
        },
        "outputId": "14c4b4e7-2676-4f9b-8721-7db265314562"
      },
      "source": [
        "from collections import Counter\n",
        "from itertools import combinations\n",
        "\n",
        "d  = Counter()\n",
        "for sub in ls_items:\n",
        "    if len(ls_items) < 2:\n",
        "        continue\n",
        "    \n",
        "    for comb in combinations(sub,2):\n",
        "        d[comb] += 1\n",
        "\n",
        "print(d.most_common(1))"
      ],
      "execution_count": null,
      "outputs": [
        {
          "output_type": "stream",
          "text": [
            "[((21231, 21232), 555)]\n"
          ],
          "name": "stdout"
        }
      ]
    },
    {
      "cell_type": "markdown",
      "metadata": {
        "id": "BNX6FMfvh-OU"
      },
      "source": [
        "Product with StockCode 21231 and Product with StockCode 21231 appears to be the most common pair in the same order. They appeared together 555 times."
      ]
    },
    {
      "cell_type": "markdown",
      "metadata": {
        "id": "k6dGS-WLgqsp"
      },
      "source": [
        "## Part E"
      ]
    },
    {
      "cell_type": "markdown",
      "metadata": {
        "id": "NDQHKmRWB9GT"
      },
      "source": [
        "Q: \n",
        "**Using a clustering algorithm of your choise, determine if there are distinct clusters of products based on their descriptions. For this question:**\n",
        "\n",
        "* focus on data in the country of Germany only;\n",
        "* conduct an analysis of the products to see how many clusters (if any) exist in products purchased in Germany;\n",
        "* visualize the resultant clusters (or lack their of);\n",
        "* comment on the applicability of the clustering in general on the data, and the determined groups based on the average price distribution of each group; \n"
      ]
    },
    {
      "cell_type": "markdown",
      "metadata": {
        "id": "ow8abqaUeu0Z"
      },
      "source": [
        "My thoughts: There are multiple clustering algorithms we can choose from. Since I won't make it an exhaustive analysis, I would like to choose a not-too complex algorithm. However, it depends on how many attributes existing in the data subset I am interested in. "
      ]
    },
    {
      "cell_type": "markdown",
      "metadata": {
        "id": "bRrCjEO1Bn2N"
      },
      "source": [
        "### Dataframe cleaning"
      ]
    },
    {
      "cell_type": "code",
      "metadata": {
        "id": "TNTk0FTgZBUd",
        "colab": {
          "base_uri": "https://localhost:8080/",
          "height": 406
        },
        "outputId": "cbf81d4f-679b-477e-851c-b3305513a411"
      },
      "source": [
        "#Prepare a clean subset for clustering\n",
        "df_germ = df1[df1['Country']== 'Germany'].reindex()\n",
        "df_germ = pd.DataFrame(df_germ,columns=['StockCode','Description','Price'])\n",
        "df_germ.drop_duplicates(keep=False, inplace=True) \n",
        "df_germ = df_germ.reset_index(drop=True)\n",
        "\n",
        "df_germ = pd.DataFrame(df_germ)   #There are only 596 instances, so we can simply use K-means\n",
        "df_germ = df_germ.replace(np.nan, '', regex=True)  #replace nan with empty string for later tokenizing\n",
        "df_germ"
      ],
      "execution_count": null,
      "outputs": [
        {
          "output_type": "execute_result",
          "data": {
            "text/html": [
              "<div>\n",
              "<style scoped>\n",
              "    .dataframe tbody tr th:only-of-type {\n",
              "        vertical-align: middle;\n",
              "    }\n",
              "\n",
              "    .dataframe tbody tr th {\n",
              "        vertical-align: top;\n",
              "    }\n",
              "\n",
              "    .dataframe thead th {\n",
              "        text-align: right;\n",
              "    }\n",
              "</style>\n",
              "<table border=\"1\" class=\"dataframe\">\n",
              "  <thead>\n",
              "    <tr style=\"text-align: right;\">\n",
              "      <th></th>\n",
              "      <th>StockCode</th>\n",
              "      <th>Description</th>\n",
              "      <th>Price</th>\n",
              "    </tr>\n",
              "  </thead>\n",
              "  <tbody>\n",
              "    <tr>\n",
              "      <th>0</th>\n",
              "      <td>22319</td>\n",
              "      <td>HAIRCLIPS FORTIES FABRIC ASSORTED</td>\n",
              "      <td>0.65</td>\n",
              "    </tr>\n",
              "    <tr>\n",
              "      <th>1</th>\n",
              "      <td>85014C</td>\n",
              "      <td>BLUE/BROWN DOTS RUFFLED UMBRELLA</td>\n",
              "      <td>5.95</td>\n",
              "    </tr>\n",
              "    <tr>\n",
              "      <th>2</th>\n",
              "      <td>21697</td>\n",
              "      <td>SET 5 MINI DOUGHNUT FRIDGE MAGNET</td>\n",
              "      <td>1.69</td>\n",
              "    </tr>\n",
              "    <tr>\n",
              "      <th>3</th>\n",
              "      <td>21674</td>\n",
              "      <td>RIDGED GLASS PENDANT LAMPSHADE</td>\n",
              "      <td>16.95</td>\n",
              "    </tr>\n",
              "    <tr>\n",
              "      <th>4</th>\n",
              "      <td>21693</td>\n",
              "      <td>SMALL HAMMERED SILVER CANDLEPOT</td>\n",
              "      <td>2.95</td>\n",
              "    </tr>\n",
              "    <tr>\n",
              "      <th>...</th>\n",
              "      <td>...</td>\n",
              "      <td>...</td>\n",
              "      <td>...</td>\n",
              "    </tr>\n",
              "    <tr>\n",
              "      <th>744</th>\n",
              "      <td>22846</td>\n",
              "      <td>BREAD BIN DINER STYLE RED</td>\n",
              "      <td>14.95</td>\n",
              "    </tr>\n",
              "    <tr>\n",
              "      <th>745</th>\n",
              "      <td>22847</td>\n",
              "      <td>BREAD BIN DINER STYLE IVORY</td>\n",
              "      <td>14.95</td>\n",
              "    </tr>\n",
              "    <tr>\n",
              "      <th>746</th>\n",
              "      <td>20979</td>\n",
              "      <td>36 PENCILS TUBE RED RETROSPOT</td>\n",
              "      <td>1.25</td>\n",
              "    </tr>\n",
              "    <tr>\n",
              "      <th>747</th>\n",
              "      <td>22943</td>\n",
              "      <td>CHRISTMAS LIGHTS 10 VINTAGE BAUBLES</td>\n",
              "      <td>4.95</td>\n",
              "    </tr>\n",
              "    <tr>\n",
              "      <th>748</th>\n",
              "      <td>22550</td>\n",
              "      <td>HOLIDAY FUN LUDO</td>\n",
              "      <td>3.75</td>\n",
              "    </tr>\n",
              "  </tbody>\n",
              "</table>\n",
              "<p>749 rows × 3 columns</p>\n",
              "</div>"
            ],
            "text/plain": [
              "    StockCode                          Description  Price\n",
              "0       22319    HAIRCLIPS FORTIES FABRIC ASSORTED   0.65\n",
              "1      85014C     BLUE/BROWN DOTS RUFFLED UMBRELLA   5.95\n",
              "2       21697   SET 5 MINI DOUGHNUT FRIDGE MAGNET    1.69\n",
              "3       21674       RIDGED GLASS PENDANT LAMPSHADE  16.95\n",
              "4       21693     SMALL HAMMERED SILVER CANDLEPOT    2.95\n",
              "..        ...                                  ...    ...\n",
              "744     22846           BREAD BIN DINER STYLE RED   14.95\n",
              "745     22847          BREAD BIN DINER STYLE IVORY  14.95\n",
              "746     20979        36 PENCILS TUBE RED RETROSPOT   1.25\n",
              "747     22943  CHRISTMAS LIGHTS 10 VINTAGE BAUBLES   4.95\n",
              "748     22550                     HOLIDAY FUN LUDO   3.75\n",
              "\n",
              "[749 rows x 3 columns]"
            ]
          },
          "metadata": {
            "tags": []
          },
          "execution_count": 4
        }
      ]
    },
    {
      "cell_type": "code",
      "metadata": {
        "id": "gKqrI18MJ9Hh",
        "colab": {
          "base_uri": "https://localhost:8080/",
          "height": 167
        },
        "outputId": "681e0a1c-678a-4370-9cec-829edd086da1"
      },
      "source": [
        "df_germ.describe(include=object)"
      ],
      "execution_count": null,
      "outputs": [
        {
          "output_type": "execute_result",
          "data": {
            "text/html": [
              "<div>\n",
              "<style scoped>\n",
              "    .dataframe tbody tr th:only-of-type {\n",
              "        vertical-align: middle;\n",
              "    }\n",
              "\n",
              "    .dataframe tbody tr th {\n",
              "        vertical-align: top;\n",
              "    }\n",
              "\n",
              "    .dataframe thead th {\n",
              "        text-align: right;\n",
              "    }\n",
              "</style>\n",
              "<table border=\"1\" class=\"dataframe\">\n",
              "  <thead>\n",
              "    <tr style=\"text-align: right;\">\n",
              "      <th></th>\n",
              "      <th>StockCode</th>\n",
              "      <th>Description</th>\n",
              "    </tr>\n",
              "  </thead>\n",
              "  <tbody>\n",
              "    <tr>\n",
              "      <th>count</th>\n",
              "      <td>749</td>\n",
              "      <td>749</td>\n",
              "    </tr>\n",
              "    <tr>\n",
              "      <th>unique</th>\n",
              "      <td>683</td>\n",
              "      <td>705</td>\n",
              "    </tr>\n",
              "    <tr>\n",
              "      <th>top</th>\n",
              "      <td>ADJUST</td>\n",
              "      <td>POSTAGE</td>\n",
              "    </tr>\n",
              "    <tr>\n",
              "      <th>freq</th>\n",
              "      <td>6</td>\n",
              "      <td>6</td>\n",
              "    </tr>\n",
              "  </tbody>\n",
              "</table>\n",
              "</div>"
            ],
            "text/plain": [
              "       StockCode Description\n",
              "count        749         749\n",
              "unique       683         705\n",
              "top       ADJUST     POSTAGE\n",
              "freq           6           6"
            ]
          },
          "metadata": {
            "tags": []
          },
          "execution_count": 5
        }
      ]
    },
    {
      "cell_type": "markdown",
      "metadata": {
        "id": "a9LutPqgBuIq"
      },
      "source": [
        "### Text processing"
      ]
    },
    {
      "cell_type": "code",
      "metadata": {
        "id": "elRh6iGvAd98",
        "colab": {
          "base_uri": "https://localhost:8080/",
          "height": 52
        },
        "outputId": "bdc3257b-92bf-4587-d421-a5f8cafadd3a"
      },
      "source": [
        "#Text Processing\n",
        "import nltk\n",
        "from nltk.corpus import stopwords #一会删了\n",
        "from nltk.tokenize import RegexpTokenizer\n",
        "from nltk.stem import WordNetLemmatizer\n",
        "from nltk.stem.porter import PorterStemmer\n",
        "nltk.download('punkt')\n",
        "from bs4 import BeautifulSoup #没有xml就用不到"
      ],
      "execution_count": null,
      "outputs": [
        {
          "output_type": "stream",
          "text": [
            "[nltk_data] Downloading package punkt to /root/nltk_data...\n",
            "[nltk_data]   Unzipping tokenizers/punkt.zip.\n"
          ],
          "name": "stdout"
        }
      ]
    },
    {
      "cell_type": "code",
      "metadata": {
        "id": "FWJUh8Y7oN8D"
      },
      "source": [
        "#Punctuation and numbers\n",
        "import re\n",
        "df_germ.loc[:,'Description'] = df_germ.Description.apply(lambda x : ' '.join(re.findall('[\\w]+',x)))"
      ],
      "execution_count": null,
      "outputs": []
    },
    {
      "cell_type": "code",
      "metadata": {
        "id": "A4Tt5SpJBf_A",
        "colab": {
          "base_uri": "https://localhost:8080/",
          "height": 406
        },
        "outputId": "24aa4f6e-000f-46b0-e3fa-58477a9af329"
      },
      "source": [
        "df_germ #斜杠什么的被去掉了"
      ],
      "execution_count": null,
      "outputs": [
        {
          "output_type": "execute_result",
          "data": {
            "text/html": [
              "<div>\n",
              "<style scoped>\n",
              "    .dataframe tbody tr th:only-of-type {\n",
              "        vertical-align: middle;\n",
              "    }\n",
              "\n",
              "    .dataframe tbody tr th {\n",
              "        vertical-align: top;\n",
              "    }\n",
              "\n",
              "    .dataframe thead th {\n",
              "        text-align: right;\n",
              "    }\n",
              "</style>\n",
              "<table border=\"1\" class=\"dataframe\">\n",
              "  <thead>\n",
              "    <tr style=\"text-align: right;\">\n",
              "      <th></th>\n",
              "      <th>StockCode</th>\n",
              "      <th>Description</th>\n",
              "      <th>Price</th>\n",
              "    </tr>\n",
              "  </thead>\n",
              "  <tbody>\n",
              "    <tr>\n",
              "      <th>0</th>\n",
              "      <td>22319</td>\n",
              "      <td>HAIRCLIPS FORTIES FABRIC ASSORTED</td>\n",
              "      <td>0.65</td>\n",
              "    </tr>\n",
              "    <tr>\n",
              "      <th>1</th>\n",
              "      <td>85014C</td>\n",
              "      <td>BLUE BROWN DOTS RUFFLED UMBRELLA</td>\n",
              "      <td>5.95</td>\n",
              "    </tr>\n",
              "    <tr>\n",
              "      <th>2</th>\n",
              "      <td>21697</td>\n",
              "      <td>SET 5 MINI DOUGHNUT FRIDGE MAGNET</td>\n",
              "      <td>1.69</td>\n",
              "    </tr>\n",
              "    <tr>\n",
              "      <th>3</th>\n",
              "      <td>21674</td>\n",
              "      <td>RIDGED GLASS PENDANT LAMPSHADE</td>\n",
              "      <td>16.95</td>\n",
              "    </tr>\n",
              "    <tr>\n",
              "      <th>4</th>\n",
              "      <td>21693</td>\n",
              "      <td>SMALL HAMMERED SILVER CANDLEPOT</td>\n",
              "      <td>2.95</td>\n",
              "    </tr>\n",
              "    <tr>\n",
              "      <th>...</th>\n",
              "      <td>...</td>\n",
              "      <td>...</td>\n",
              "      <td>...</td>\n",
              "    </tr>\n",
              "    <tr>\n",
              "      <th>744</th>\n",
              "      <td>22846</td>\n",
              "      <td>BREAD BIN DINER STYLE RED</td>\n",
              "      <td>14.95</td>\n",
              "    </tr>\n",
              "    <tr>\n",
              "      <th>745</th>\n",
              "      <td>22847</td>\n",
              "      <td>BREAD BIN DINER STYLE IVORY</td>\n",
              "      <td>14.95</td>\n",
              "    </tr>\n",
              "    <tr>\n",
              "      <th>746</th>\n",
              "      <td>20979</td>\n",
              "      <td>36 PENCILS TUBE RED RETROSPOT</td>\n",
              "      <td>1.25</td>\n",
              "    </tr>\n",
              "    <tr>\n",
              "      <th>747</th>\n",
              "      <td>22943</td>\n",
              "      <td>CHRISTMAS LIGHTS 10 VINTAGE BAUBLES</td>\n",
              "      <td>4.95</td>\n",
              "    </tr>\n",
              "    <tr>\n",
              "      <th>748</th>\n",
              "      <td>22550</td>\n",
              "      <td>HOLIDAY FUN LUDO</td>\n",
              "      <td>3.75</td>\n",
              "    </tr>\n",
              "  </tbody>\n",
              "</table>\n",
              "<p>749 rows × 3 columns</p>\n",
              "</div>"
            ],
            "text/plain": [
              "    StockCode                          Description  Price\n",
              "0       22319    HAIRCLIPS FORTIES FABRIC ASSORTED   0.65\n",
              "1      85014C     BLUE BROWN DOTS RUFFLED UMBRELLA   5.95\n",
              "2       21697    SET 5 MINI DOUGHNUT FRIDGE MAGNET   1.69\n",
              "3       21674       RIDGED GLASS PENDANT LAMPSHADE  16.95\n",
              "4       21693      SMALL HAMMERED SILVER CANDLEPOT   2.95\n",
              "..        ...                                  ...    ...\n",
              "744     22846            BREAD BIN DINER STYLE RED  14.95\n",
              "745     22847          BREAD BIN DINER STYLE IVORY  14.95\n",
              "746     20979        36 PENCILS TUBE RED RETROSPOT   1.25\n",
              "747     22943  CHRISTMAS LIGHTS 10 VINTAGE BAUBLES   4.95\n",
              "748     22550                     HOLIDAY FUN LUDO   3.75\n",
              "\n",
              "[749 rows x 3 columns]"
            ]
          },
          "metadata": {
            "tags": []
          },
          "execution_count": 8
        }
      ]
    },
    {
      "cell_type": "code",
      "metadata": {
        "id": "N1ZyDY_SxPuj"
      },
      "source": [
        "text_list1 = df_germ['Description'].tolist()"
      ],
      "execution_count": null,
      "outputs": []
    },
    {
      "cell_type": "code",
      "metadata": {
        "id": "VUAW7gDiEC_7",
        "colab": {
          "base_uri": "https://localhost:8080/",
          "height": 194
        },
        "outputId": "303f2d6c-c8ab-4ee0-d4b4-a86e66685845"
      },
      "source": [
        "text_list1[:10]"
      ],
      "execution_count": null,
      "outputs": [
        {
          "output_type": "execute_result",
          "data": {
            "text/plain": [
              "['HAIRCLIPS FORTIES FABRIC ASSORTED',\n",
              " 'BLUE BROWN DOTS RUFFLED UMBRELLA',\n",
              " 'SET 5 MINI DOUGHNUT FRIDGE MAGNET',\n",
              " 'RIDGED GLASS PENDANT LAMPSHADE',\n",
              " 'SMALL HAMMERED SILVER CANDLEPOT',\n",
              " 'FEATHER PEN LIGHT PINK',\n",
              " 'POSTAGE',\n",
              " 'RETRO SPOT PADDED SEAT CUSHION',\n",
              " 'RED WHITE DOT MINI CASES',\n",
              " 'VINTAGE SEASIDE JIGSAW PUZZLES']"
            ]
          },
          "metadata": {
            "tags": []
          },
          "execution_count": 10
        }
      ]
    },
    {
      "cell_type": "code",
      "metadata": {
        "id": "QFiUFWv5NgUH",
        "colab": {
          "base_uri": "https://localhost:8080/",
          "height": 406
        },
        "outputId": "17f88f46-5dd5-4477-8f22-ee8f600511b4"
      },
      "source": [
        "#tokenize the description\n",
        "tokenizer = RegexpTokenizer(r'\\w+')\n",
        "df_germ['Description'] = df_germ.apply(lambda row: nltk.word_tokenize(row['Description']), axis=1)\n",
        "df_germ"
      ],
      "execution_count": null,
      "outputs": [
        {
          "output_type": "execute_result",
          "data": {
            "text/html": [
              "<div>\n",
              "<style scoped>\n",
              "    .dataframe tbody tr th:only-of-type {\n",
              "        vertical-align: middle;\n",
              "    }\n",
              "\n",
              "    .dataframe tbody tr th {\n",
              "        vertical-align: top;\n",
              "    }\n",
              "\n",
              "    .dataframe thead th {\n",
              "        text-align: right;\n",
              "    }\n",
              "</style>\n",
              "<table border=\"1\" class=\"dataframe\">\n",
              "  <thead>\n",
              "    <tr style=\"text-align: right;\">\n",
              "      <th></th>\n",
              "      <th>StockCode</th>\n",
              "      <th>Description</th>\n",
              "      <th>Price</th>\n",
              "    </tr>\n",
              "  </thead>\n",
              "  <tbody>\n",
              "    <tr>\n",
              "      <th>0</th>\n",
              "      <td>22319</td>\n",
              "      <td>[HAIRCLIPS, FORTIES, FABRIC, ASSORTED]</td>\n",
              "      <td>0.65</td>\n",
              "    </tr>\n",
              "    <tr>\n",
              "      <th>1</th>\n",
              "      <td>85014C</td>\n",
              "      <td>[BLUE, BROWN, DOTS, RUFFLED, UMBRELLA]</td>\n",
              "      <td>5.95</td>\n",
              "    </tr>\n",
              "    <tr>\n",
              "      <th>2</th>\n",
              "      <td>21697</td>\n",
              "      <td>[SET, 5, MINI, DOUGHNUT, FRIDGE, MAGNET]</td>\n",
              "      <td>1.69</td>\n",
              "    </tr>\n",
              "    <tr>\n",
              "      <th>3</th>\n",
              "      <td>21674</td>\n",
              "      <td>[RIDGED, GLASS, PENDANT, LAMPSHADE]</td>\n",
              "      <td>16.95</td>\n",
              "    </tr>\n",
              "    <tr>\n",
              "      <th>4</th>\n",
              "      <td>21693</td>\n",
              "      <td>[SMALL, HAMMERED, SILVER, CANDLEPOT]</td>\n",
              "      <td>2.95</td>\n",
              "    </tr>\n",
              "    <tr>\n",
              "      <th>...</th>\n",
              "      <td>...</td>\n",
              "      <td>...</td>\n",
              "      <td>...</td>\n",
              "    </tr>\n",
              "    <tr>\n",
              "      <th>769</th>\n",
              "      <td>22847</td>\n",
              "      <td>[BREAD, BIN, DINER, STYLE, IVORY]</td>\n",
              "      <td>14.95</td>\n",
              "    </tr>\n",
              "    <tr>\n",
              "      <th>770</th>\n",
              "      <td>22202</td>\n",
              "      <td>[MILK, PAN, PINK, POLKADOT]</td>\n",
              "      <td>3.75</td>\n",
              "    </tr>\n",
              "    <tr>\n",
              "      <th>771</th>\n",
              "      <td>20979</td>\n",
              "      <td>[36, PENCILS, TUBE, RED, RETROSPOT]</td>\n",
              "      <td>1.25</td>\n",
              "    </tr>\n",
              "    <tr>\n",
              "      <th>772</th>\n",
              "      <td>22943</td>\n",
              "      <td>[CHRISTMAS, LIGHTS, 10, VINTAGE, BAUBLES]</td>\n",
              "      <td>4.95</td>\n",
              "    </tr>\n",
              "    <tr>\n",
              "      <th>773</th>\n",
              "      <td>22550</td>\n",
              "      <td>[HOLIDAY, FUN, LUDO]</td>\n",
              "      <td>3.75</td>\n",
              "    </tr>\n",
              "  </tbody>\n",
              "</table>\n",
              "<p>774 rows × 3 columns</p>\n",
              "</div>"
            ],
            "text/plain": [
              "    StockCode                                Description  Price\n",
              "0       22319     [HAIRCLIPS, FORTIES, FABRIC, ASSORTED]   0.65\n",
              "1      85014C     [BLUE, BROWN, DOTS, RUFFLED, UMBRELLA]   5.95\n",
              "2       21697   [SET, 5, MINI, DOUGHNUT, FRIDGE, MAGNET]   1.69\n",
              "3       21674        [RIDGED, GLASS, PENDANT, LAMPSHADE]  16.95\n",
              "4       21693       [SMALL, HAMMERED, SILVER, CANDLEPOT]   2.95\n",
              "..        ...                                        ...    ...\n",
              "769     22847          [BREAD, BIN, DINER, STYLE, IVORY]  14.95\n",
              "770     22202                [MILK, PAN, PINK, POLKADOT]   3.75\n",
              "771     20979        [36, PENCILS, TUBE, RED, RETROSPOT]   1.25\n",
              "772     22943  [CHRISTMAS, LIGHTS, 10, VINTAGE, BAUBLES]   4.95\n",
              "773     22550                       [HOLIDAY, FUN, LUDO]   3.75\n",
              "\n",
              "[774 rows x 3 columns]"
            ]
          },
          "metadata": {
            "tags": []
          },
          "execution_count": 37
        }
      ]
    },
    {
      "cell_type": "code",
      "metadata": {
        "id": "kXVHGTjWyvUH",
        "colab": {
          "base_uri": "https://localhost:8080/",
          "height": 230
        },
        "outputId": "4e9af554-05b4-42a9-8d14-9be4996814e5"
      },
      "source": [
        "#Stemming\n",
        "stemmer = PorterStemmer()\n",
        "\n",
        "def word_stemmer(text):\n",
        "  stem_text = ' '.join([stemmer.stem(i) for i in text])\n",
        "  return stem_text\n",
        "\n",
        "df_germ['stemmed'] = df_germ['Description'].apply(lambda x: word_stemmer(x))\n",
        "df_germ['stemmed']                                      "
      ],
      "execution_count": null,
      "outputs": [
        {
          "output_type": "execute_result",
          "data": {
            "text/plain": [
              "0          hairclip forti fabric assort\n",
              "1         blue brown dot ruffl umbrella\n",
              "2      set 5 mini doughnut fridg magnet\n",
              "3           ridg glass pendant lampshad\n",
              "4         small hammer silver candlepot\n",
              "                     ...               \n",
              "769         bread bin diner style ivori\n",
              "770              milk pan pink polkadot\n",
              "771        36 pencil tube red retrospot\n",
              "772      christma light 10 vintag baubl\n",
              "773                    holiday fun ludo\n",
              "Name: stemmed, Length: 774, dtype: object"
            ]
          },
          "metadata": {
            "tags": []
          },
          "execution_count": 38
        }
      ]
    },
    {
      "cell_type": "code",
      "metadata": {
        "id": "mGQBtRQouC85"
      },
      "source": [
        "text_list = df_germ['stemmed'].tolist()"
      ],
      "execution_count": null,
      "outputs": []
    },
    {
      "cell_type": "markdown",
      "metadata": {
        "id": "ezScNJKSBk9S"
      },
      "source": [
        "### Calculate TF-IDF"
      ]
    },
    {
      "cell_type": "code",
      "metadata": {
        "id": "D-JPb6vL0-Zj"
      },
      "source": [
        "from sklearn.feature_extraction.text import TfidfVectorizer\n",
        "from sklearn.cluster import KMeans\n",
        "from sklearn.metrics import adjusted_rand_score\n",
        "\n",
        "#TF-IDF vectorizer\n",
        "tfv = TfidfVectorizer(stop_words = 'english', ngram_range = (1,1), max_features=2000)\n",
        "#transform\n",
        "vec_text = tfv.fit_transform(text_list)\n",
        "#returns a list of words.\n",
        "words = tfv.get_feature_names()"
      ],
      "execution_count": null,
      "outputs": []
    },
    {
      "cell_type": "markdown",
      "metadata": {
        "id": "rwrl5y1DBg1j"
      },
      "source": [
        "### K means"
      ]
    },
    {
      "cell_type": "code",
      "metadata": {
        "id": "rNf7T-Tt1rlB",
        "colab": {
          "base_uri": "https://localhost:8080/",
          "height": 283
        },
        "outputId": "2e15c0b8-a090-493b-ff88-0db506551380"
      },
      "source": [
        "#setup kmeans clustering\n",
        "kmeans = KMeans(n_clusters = 15, n_init = 17, n_jobs = -1, tol = 0.01, max_iter = 200) #I set the number of clusters to 15 at first. It might be changed later.\n",
        "#fit the data \n",
        "kmeans.fit(vec_text)\n",
        "#this loop transforms the numbers back into words\n",
        "common_words = kmeans.cluster_centers_.argsort()[:,-1:-11:-1]\n",
        "for num, centroid in enumerate(common_words):\n",
        "    print(str(num) + ' : ' + ', '.join(words[word] for word in centroid))"
      ],
      "execution_count": null,
      "outputs": [
        {
          "output_type": "stream",
          "text": [
            "0 : christma, pink, decor, rose, bag, door, metal, tree, small, cushion\n",
            "1 : paper, retro, spot, bunt, cup, white, set, larg, red, garland\n",
            "2 : water, skull, hot, bottl, tube, pencil, design, wrap, heart, 36\n",
            "3 : box, cake, fairi, round, pink, lunch, set, tin, nest, coaster\n",
            "4 : light, botan, set, holder, candl, flamingo, lavend, glass, hang, 12\n",
            "5 : vintag, bag, airlin, set, jet, cream, jack, contain, food, cabin\n",
            "6 : blue, polkadot, bowl, paisley, pink, pan, umbrella, fold, pud, milk\n",
            "7 : set, heart, design, love, imag, wooden, floral, gingham, stationeri, money\n",
            "8 : doormat, home, welcom, sweet, red, flock, spot, black, spotti, airmail\n",
            "9 : diner, bin, bread, style, wall, clock, mint, red, enamel, fridg\n",
            "10 : retrospot, red, wood, christma, box, heart, tube, pencil, pan, set\n",
            "11 : pack, 12, bunni, tissu, box, panneton, card, chick, basket, jigsaw\n",
            "12 : magic, slate, draw, fair, dinosaur, natur, chalkboard, bunni, garden, cake\n",
            "13 : postag, zinc, england, en, empir, emboss, elvi, eleg, egg, eau\n",
            "14 : green, ribbon, fern, reel, chalic, small, shoe, dish, pizza, slipper\n"
          ],
          "name": "stdout"
        }
      ]
    },
    {
      "cell_type": "code",
      "metadata": {
        "id": "0FsT-8h91_J2",
        "colab": {
          "base_uri": "https://localhost:8080/",
          "height": 414
        },
        "outputId": "f6aba1d7-d149-4e30-9362-8b14ca2abd5b"
      },
      "source": [
        "#Plot a heatmap showing how the corresponding prices are clustered\n",
        "df_germ['cluster'] = kmeans.labels_\n",
        "clusters = df_germ.groupby(['Price','cluster']).size()\n",
        "fig, ax1 = plt.subplots(figsize = (8, 6))\n",
        "\n",
        "sns.heatmap(clusters.unstack(level = 'Price'), ax = ax1, cmap = 'YlGnBu')\n",
        "ax1.set_xlabel('Price').set_size(18)\n",
        "ax1.set_ylabel('Cluster').set_size(18)\n"
      ],
      "execution_count": null,
      "outputs": [
        {
          "output_type": "display_data",
          "data": {
            "image/png": "[encoded data removed]",
            "text/plain": [
              "<Figure size 576x432 with 2 Axes>"
            ]
          },
          "metadata": {
            "tags": [],
            "needs_background": "light"
          }
        }
      ]
    },
    {
      "cell_type": "code",
      "metadata": {
        "id": "-8w3kMvs-8Kr",
        "colab": {
          "base_uri": "https://localhost:8080/",
          "height": 294
        },
        "outputId": "224fefa2-4202-4d67-d2d3-d7cdbf389928"
      },
      "source": [
        "#Use the Elbow Method to roughly determine the number of cluster\n",
        "\n",
        "from sklearn.decomposition import PCA\n",
        "from sklearn.preprocessing import normalize\n",
        "from sklearn.metrics import pairwise_distances\n",
        "from sklearn.cluster import KMeans \n",
        "from sklearn.feature_extraction.text import TfidfVectorizer\n",
        "\n",
        "tf_idf_norm = normalize(vec_text)\n",
        "tf_idf_array = tf_idf_norm.toarray()\n",
        "\n",
        "sklearn_pca = PCA(n_components = 2)\n",
        "Y_sklearn = sklearn_pca.fit_transform(tf_idf_array)\n",
        "number_clusters = range(1, 20)\n",
        "\n",
        "kmeans = [KMeans(n_clusters=i, max_iter = 600) for i in number_clusters]\n",
        "kmeans\n",
        "\n",
        "score = [kmeans[i].fit(Y_sklearn).score(Y_sklearn) for i in range(len(kmeans))]\n",
        "score\n",
        "\n",
        "plt.plot(number_clusters, score)\n",
        "plt.xlabel('Number of Clusters')\n",
        "plt.ylabel('Score')\n",
        "plt.title('Elbow Method')\n",
        "plt.show()"
      ],
      "execution_count": null,
      "outputs": [
        {
          "output_type": "display_data",
          "data": {
            "image/png": "[encoded data removed]",
            "text/plain": [
              "<Figure size 432x288 with 1 Axes>"
            ]
          },
          "metadata": {
            "tags": [],
            "needs_background": "light"
          }
        }
      ]
    },
    {
      "cell_type": "code",
      "metadata": {
        "id": "Oj-Ppg7n_BEq",
        "colab": {
          "base_uri": "https://localhost:8080/",
          "height": 70
        },
        "outputId": "c2c0a1f5-7a53-46b6-d18d-7d1314080758"
      },
      "source": [
        "#setup kmeans clustering\n",
        "kmeans = KMeans(n_clusters = 3, n_init = 17, n_jobs = -1, tol = 0.01, max_iter = 200) #I set the number of clusters to 10 at first\n",
        "#fit the data \n",
        "kmeans.fit(vec_text)\n",
        "#this loop transforms the numbers back into words\n",
        "common_words = kmeans.cluster_centers_.argsort()[:,-1:-11:-1]\n",
        "for num, centroid in enumerate(common_words):\n",
        "    print(str(num) + ' : ' + ', '.join(words[word] for word in centroid))"
      ],
      "execution_count": null,
      "outputs": [
        {
          "output_type": "stream",
          "text": [
            "0 : pink, christma, blue, box, vintag, heart, green, cake, small, mug\n",
            "1 : red, spot, retrospot, retro, white, spotti, heart, tube, candi, doormat\n",
            "2 : set, light, vintag, jet, bag, airlin, stationeri, paper, imag, wooden\n"
          ],
          "name": "stdout"
        }
      ]
    },
    {
      "cell_type": "code",
      "metadata": {
        "id": "sFjNlqw-_L9E",
        "colab": {
          "base_uri": "https://localhost:8080/",
          "height": 418
        },
        "outputId": "6330a731-b78a-41d4-843b-7230ced02311"
      },
      "source": [
        "#Plot the new fig of after clustering\n",
        "df_germ['cluster'] = kmeans.labels_\n",
        "clusters = df_germ.groupby(['Price','cluster']).size()\n",
        "fig, ax1 = plt.subplots(figsize = (8, 6))\n",
        "\n",
        "sns.heatmap(clusters.unstack(level = 'Price'), ax = ax1, cmap = 'YlGnBu')\n",
        "ax1.set_xlabel('Price').set_size(18)\n",
        "ax1.set_ylabel('Cluster').set_size(18)"
      ],
      "execution_count": null,
      "outputs": [
        {
          "output_type": "display_data",
          "data": {
            "image/png": "[encoded data removed]",
            "text/plain": [
              "<Figure size 576x432 with 2 Axes>"
            ]
          },
          "metadata": {
            "tags": [],
            "needs_background": "light"
          }
        }
      ]
    },
    {
      "cell_type": "markdown",
      "metadata": {
        "id": "9YHeAtckActl"
      },
      "source": [
        "The above heatmap shows the relationship between the price and the clusters, using the optimal clustering method generated by the Elbow method. The average price of the three clusters do not have large differences. However, the variances of the price in the three clusters have obvious difference. Cluster 0 has the largest variance, while the cluster 2 and cluster 1 have smaller variances, in a descending order."
      ]
    },
    {
      "cell_type": "markdown",
      "metadata": {
        "id": "O7sWCia9guz2"
      },
      "source": [
        "#Question 2"
      ]
    },
    {
      "cell_type": "markdown",
      "metadata": {
        "id": "b-FIwIAy7BiW"
      },
      "source": [
        "Given a list of integer intervals defined by (start, end), where start is inclusive and end is exclusive, write a function that returns the sum of the integers in the union of all the intervals."
      ]
    },
    {
      "cell_type": "code",
      "metadata": {
        "id": "rmE9r7dqORlI"
      },
      "source": [
        "#I referred to LeetCode No. 56 https://leetcode.com/problems/merge-intervals/\n",
        "\"\"\"\n",
        "Define an interval:\n",
        "\n",
        "class Interval(object):\n",
        "    def __init__(self, start, end):\n",
        "        self.start = start\n",
        "        self.end = end\n",
        "\"\"\"\n",
        "\n",
        "class Solution:\n",
        "    \"\"\"\n",
        "    @param intervals: interval list.\n",
        "    @return: sum of new interval list.\n",
        "    \"\"\"\n",
        "    def forge(self, intervals):\n",
        "        if len(intervals) < 2: \n",
        "          num_list = range(start, end) \n",
        "          final_sum = sum(num_list) \n",
        "          return final_sum   #return the sum of the interval itself if there is only 1 or 0 interval\n",
        "        intervals = sorted(intervals, key=lambda x: x.start)  #sort intervals (x) by their starting values\n",
        "        res = [intervals[0]]\n",
        "        i = 1\n",
        "        k = 0\n",
        "        while i < len(intervals):\n",
        "            if res[k].end >= intervals[i].start: \n",
        "                res[k] = Interval(res[k].start, res[k].end if res[k].end >= intervals[i].end else intervals[i].end) \n",
        "                for j in res:\n",
        "                  final_sum += sum(range(j.start, j.end))  #sum the sum of integers in each interval        \n",
        "            else:\n",
        "                res.append(intervals[i])\n",
        "                k += 1\n",
        "            i += 1     #iterate until the last original interval\n",
        "        return final_sum"
      ],
      "execution_count": null,
      "outputs": []
    }
  ]
}